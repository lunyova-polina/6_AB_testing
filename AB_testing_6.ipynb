{
 "cells": [
  {
   "cell_type": "markdown",
   "metadata": {},
   "source": [
    "# Проведение анализа A/B-тестирования"
   ]
  },
  {
   "cell_type": "markdown",
   "metadata": {},
   "source": [
    "В крупном интернет-магазине, вместе с отделом маркетинга, был подготовлен список гипотез для увеличения выручки.  \n",
    "Чтобы не ошибиться в выборе гипотезы, нужно их приоритизировать и провести A/B-тесты.\n",
    "A/B-тестирование позволяет узнать различие между группами или его отсутствие, сравнивая различные метрики.\n",
    "\n",
    "Цели:\n",
    "1. подготовить данные к анализу;  \n",
    "2. приоритизировать гипотезы;  \n",
    "3. запустить A/B-тест;  \n",
    "4. проанализировать результаты.   \n",
    "  \n",
    "В ходе работы нужно выполнить следующие задачи: \n",
    "\n",
    "- Применить фреймворк ICE и RICE для приоритизации гипотез;  \n",
    "- Построить график кумулятивной выручки и кумулятивного среднего чека по группам;\n",
    "- Построить график относительного изменения кумулятивного среднего чека группы B к группе A;\n",
    "- Построить график кумулятивной конверсии по группам;\n",
    "- Построить график относительного изменения кумулятивной конверсии группы B к группе A;\n",
    "- Построить точечные графики количества и стоимостей заказов по пользователям;\n",
    "- Посчитать 95-й и 99-й перцентили количества и стоимости заказов на пользователя. Выбрать границу для определения аномальных пользователей;\n",
    "- Посчитать статистическую значимость различий в конверсии между группами по «сырым» и «очищенным» данным;\n",
    "- Посчитать статистическую значимость различий в среднем чеке заказа между группами по «сырым» и «очищенным» данным;\n",
    "- Принять решение по результатам теста. "
   ]
  },
  {
   "cell_type": "markdown",
   "metadata": {},
   "source": [
    "## Описание данных   \n",
    "  \n",
    "Файл /datasets/hypothesis.csv  \n",
    "- `Hypothesis` — краткое описание гипотезы;  \n",
    "- `Reach` — охват пользователей по 10-балльной шкале;  \n",
    "- `Impact` — влияние на пользователей по 10-балльной шкале;  \n",
    "- `Confidence` — уверенность в гипотезе по 10-балльной шкале;  \n",
    "- `Efforts` — затраты ресурсов на проверку гипотезы по 10-балльной шкале. Чем больше значение Efforts, тем дороже проверка гипотезы.  \n",
    "\n",
    "Файл /datasets/orders.csv\n",
    "- `transactionId` — идентификатор заказа;\n",
    "- `visitorId` — идентификатор пользователя, совершившего заказ;\n",
    "- `date` — дата, когда был совершён заказ;\n",
    "- `revenue` — выручка заказа;\n",
    "- `group` — группа A/B-теста, в которую попал заказ.\n",
    "\n",
    "Файл /datasets/visitors.csv\n",
    "- `date` — дата;\n",
    "- `group` — группа A/B-теста;\n",
    "- `visitors` — количество пользователей в указанную дату в указанной группе A/B-теста"
   ]
  },
  {
   "cell_type": "markdown",
   "metadata": {},
   "source": [
    "## Изучение данных и подготовка их к анализу"
   ]
  },
  {
   "cell_type": "code",
   "execution_count": 25,
   "metadata": {
    "scrolled": false
   },
   "outputs": [],
   "source": [
    "import pandas as pd\n",
    "import matplotlib.pyplot as plt\n",
    "from pandas.plotting import register_matplotlib_converters \n",
    "import scipy.stats as stats\n",
    "import datetime as dt\n",
    "import numpy as np\n",
    "import warnings"
   ]
  },
  {
   "cell_type": "code",
   "execution_count": 26,
   "metadata": {
    "scrolled": false
   },
   "outputs": [
    {
     "data": {
      "text/html": [
       "<div>\n",
       "<style scoped>\n",
       "    .dataframe tbody tr th:only-of-type {\n",
       "        vertical-align: middle;\n",
       "    }\n",
       "\n",
       "    .dataframe tbody tr th {\n",
       "        vertical-align: top;\n",
       "    }\n",
       "\n",
       "    .dataframe thead th {\n",
       "        text-align: right;\n",
       "    }\n",
       "</style>\n",
       "<table border=\"1\" class=\"dataframe\">\n",
       "  <thead>\n",
       "    <tr style=\"text-align: right;\">\n",
       "      <th></th>\n",
       "      <th>Hypothesis</th>\n",
       "      <th>Reach</th>\n",
       "      <th>Impact</th>\n",
       "      <th>Confidence</th>\n",
       "      <th>Efforts</th>\n",
       "    </tr>\n",
       "  </thead>\n",
       "  <tbody>\n",
       "    <tr>\n",
       "      <td>0</td>\n",
       "      <td>Добавить два новых канала привлечения трафика, что позволит привлекать на 30% больше пользователей</td>\n",
       "      <td>3</td>\n",
       "      <td>10</td>\n",
       "      <td>8</td>\n",
       "      <td>6</td>\n",
       "    </tr>\n",
       "    <tr>\n",
       "      <td>1</td>\n",
       "      <td>Запустить собственную службу доставки, что сократит срок доставки заказов</td>\n",
       "      <td>2</td>\n",
       "      <td>5</td>\n",
       "      <td>4</td>\n",
       "      <td>10</td>\n",
       "    </tr>\n",
       "    <tr>\n",
       "      <td>2</td>\n",
       "      <td>Добавить блоки рекомендаций товаров на сайт интернет магазина, чтобы повысить конверсию и средний чек заказа</td>\n",
       "      <td>8</td>\n",
       "      <td>3</td>\n",
       "      <td>7</td>\n",
       "      <td>3</td>\n",
       "    </tr>\n",
       "    <tr>\n",
       "      <td>3</td>\n",
       "      <td>Изменить структура категорий, что увеличит конверсию, т.к. пользователи быстрее найдут нужный товар</td>\n",
       "      <td>8</td>\n",
       "      <td>3</td>\n",
       "      <td>3</td>\n",
       "      <td>8</td>\n",
       "    </tr>\n",
       "    <tr>\n",
       "      <td>4</td>\n",
       "      <td>Изменить цвет фона главной страницы, чтобы увеличить вовлеченность пользователей</td>\n",
       "      <td>3</td>\n",
       "      <td>1</td>\n",
       "      <td>1</td>\n",
       "      <td>1</td>\n",
       "    </tr>\n",
       "    <tr>\n",
       "      <td>5</td>\n",
       "      <td>Добавить страницу отзывов клиентов о магазине, что позволит увеличить количество заказов</td>\n",
       "      <td>3</td>\n",
       "      <td>2</td>\n",
       "      <td>2</td>\n",
       "      <td>3</td>\n",
       "    </tr>\n",
       "    <tr>\n",
       "      <td>6</td>\n",
       "      <td>Показать на главной странице баннеры с актуальными акциями и распродажами, чтобы увеличить конверсию</td>\n",
       "      <td>5</td>\n",
       "      <td>3</td>\n",
       "      <td>8</td>\n",
       "      <td>3</td>\n",
       "    </tr>\n",
       "    <tr>\n",
       "      <td>7</td>\n",
       "      <td>Добавить форму подписки на все основные страницы, чтобы собрать базу клиентов для email-рассылок</td>\n",
       "      <td>10</td>\n",
       "      <td>7</td>\n",
       "      <td>8</td>\n",
       "      <td>5</td>\n",
       "    </tr>\n",
       "    <tr>\n",
       "      <td>8</td>\n",
       "      <td>Запустить акцию, дающую скидку на товар в день рождения</td>\n",
       "      <td>1</td>\n",
       "      <td>9</td>\n",
       "      <td>9</td>\n",
       "      <td>5</td>\n",
       "    </tr>\n",
       "  </tbody>\n",
       "</table>\n",
       "</div>"
      ],
      "text/plain": [
       "                                                                                                     Hypothesis  \\\n",
       "0            Добавить два новых канала привлечения трафика, что позволит привлекать на 30% больше пользователей   \n",
       "1                                     Запустить собственную службу доставки, что сократит срок доставки заказов   \n",
       "2  Добавить блоки рекомендаций товаров на сайт интернет магазина, чтобы повысить конверсию и средний чек заказа   \n",
       "3           Изменить структура категорий, что увеличит конверсию, т.к. пользователи быстрее найдут нужный товар   \n",
       "4                              Изменить цвет фона главной страницы, чтобы увеличить вовлеченность пользователей   \n",
       "5                      Добавить страницу отзывов клиентов о магазине, что позволит увеличить количество заказов   \n",
       "6          Показать на главной странице баннеры с актуальными акциями и распродажами, чтобы увеличить конверсию   \n",
       "7              Добавить форму подписки на все основные страницы, чтобы собрать базу клиентов для email-рассылок   \n",
       "8                                                       Запустить акцию, дающую скидку на товар в день рождения   \n",
       "\n",
       "   Reach  Impact  Confidence  Efforts  \n",
       "0      3      10           8        6  \n",
       "1      2       5           4       10  \n",
       "2      8       3           7        3  \n",
       "3      8       3           3        8  \n",
       "4      3       1           1        1  \n",
       "5      3       2           2        3  \n",
       "6      5       3           8        3  \n",
       "7     10       7           8        5  \n",
       "8      1       9           9        5  "
      ]
     },
     "metadata": {},
     "output_type": "display_data"
    },
    {
     "data": {
      "text/html": [
       "<div>\n",
       "<style scoped>\n",
       "    .dataframe tbody tr th:only-of-type {\n",
       "        vertical-align: middle;\n",
       "    }\n",
       "\n",
       "    .dataframe tbody tr th {\n",
       "        vertical-align: top;\n",
       "    }\n",
       "\n",
       "    .dataframe thead th {\n",
       "        text-align: right;\n",
       "    }\n",
       "</style>\n",
       "<table border=\"1\" class=\"dataframe\">\n",
       "  <thead>\n",
       "    <tr style=\"text-align: right;\">\n",
       "      <th></th>\n",
       "      <th>transactionId</th>\n",
       "      <th>visitorId</th>\n",
       "      <th>date</th>\n",
       "      <th>revenue</th>\n",
       "      <th>group</th>\n",
       "    </tr>\n",
       "  </thead>\n",
       "  <tbody>\n",
       "    <tr>\n",
       "      <td>0</td>\n",
       "      <td>3667963787</td>\n",
       "      <td>3312258926</td>\n",
       "      <td>2019-08-15</td>\n",
       "      <td>1650</td>\n",
       "      <td>B</td>\n",
       "    </tr>\n",
       "    <tr>\n",
       "      <td>1</td>\n",
       "      <td>2804400009</td>\n",
       "      <td>3642806036</td>\n",
       "      <td>2019-08-15</td>\n",
       "      <td>730</td>\n",
       "      <td>B</td>\n",
       "    </tr>\n",
       "    <tr>\n",
       "      <td>2</td>\n",
       "      <td>2961555356</td>\n",
       "      <td>4069496402</td>\n",
       "      <td>2019-08-15</td>\n",
       "      <td>400</td>\n",
       "      <td>A</td>\n",
       "    </tr>\n",
       "    <tr>\n",
       "      <td>3</td>\n",
       "      <td>3797467345</td>\n",
       "      <td>1196621759</td>\n",
       "      <td>2019-08-15</td>\n",
       "      <td>9759</td>\n",
       "      <td>B</td>\n",
       "    </tr>\n",
       "    <tr>\n",
       "      <td>4</td>\n",
       "      <td>2282983706</td>\n",
       "      <td>2322279887</td>\n",
       "      <td>2019-08-15</td>\n",
       "      <td>2308</td>\n",
       "      <td>B</td>\n",
       "    </tr>\n",
       "  </tbody>\n",
       "</table>\n",
       "</div>"
      ],
      "text/plain": [
       "   transactionId   visitorId        date  revenue group\n",
       "0     3667963787  3312258926  2019-08-15     1650     B\n",
       "1     2804400009  3642806036  2019-08-15      730     B\n",
       "2     2961555356  4069496402  2019-08-15      400     A\n",
       "3     3797467345  1196621759  2019-08-15     9759     B\n",
       "4     2282983706  2322279887  2019-08-15     2308     B"
      ]
     },
     "metadata": {},
     "output_type": "display_data"
    },
    {
     "data": {
      "text/html": [
       "<div>\n",
       "<style scoped>\n",
       "    .dataframe tbody tr th:only-of-type {\n",
       "        vertical-align: middle;\n",
       "    }\n",
       "\n",
       "    .dataframe tbody tr th {\n",
       "        vertical-align: top;\n",
       "    }\n",
       "\n",
       "    .dataframe thead th {\n",
       "        text-align: right;\n",
       "    }\n",
       "</style>\n",
       "<table border=\"1\" class=\"dataframe\">\n",
       "  <thead>\n",
       "    <tr style=\"text-align: right;\">\n",
       "      <th></th>\n",
       "      <th>date</th>\n",
       "      <th>group</th>\n",
       "      <th>visitors</th>\n",
       "    </tr>\n",
       "  </thead>\n",
       "  <tbody>\n",
       "    <tr>\n",
       "      <td>0</td>\n",
       "      <td>2019-08-01</td>\n",
       "      <td>A</td>\n",
       "      <td>719</td>\n",
       "    </tr>\n",
       "    <tr>\n",
       "      <td>1</td>\n",
       "      <td>2019-08-02</td>\n",
       "      <td>A</td>\n",
       "      <td>619</td>\n",
       "    </tr>\n",
       "    <tr>\n",
       "      <td>2</td>\n",
       "      <td>2019-08-03</td>\n",
       "      <td>A</td>\n",
       "      <td>507</td>\n",
       "    </tr>\n",
       "    <tr>\n",
       "      <td>3</td>\n",
       "      <td>2019-08-04</td>\n",
       "      <td>A</td>\n",
       "      <td>717</td>\n",
       "    </tr>\n",
       "    <tr>\n",
       "      <td>4</td>\n",
       "      <td>2019-08-05</td>\n",
       "      <td>A</td>\n",
       "      <td>756</td>\n",
       "    </tr>\n",
       "  </tbody>\n",
       "</table>\n",
       "</div>"
      ],
      "text/plain": [
       "         date group  visitors\n",
       "0  2019-08-01     A       719\n",
       "1  2019-08-02     A       619\n",
       "2  2019-08-03     A       507\n",
       "3  2019-08-04     A       717\n",
       "4  2019-08-05     A       756"
      ]
     },
     "metadata": {},
     "output_type": "display_data"
    },
    {
     "name": "stdout",
     "output_type": "stream",
     "text": [
      "<class 'pandas.core.frame.DataFrame'>\n",
      "RangeIndex: 9 entries, 0 to 8\n",
      "Data columns (total 5 columns):\n",
      "Hypothesis    9 non-null object\n",
      "Reach         9 non-null int64\n",
      "Impact        9 non-null int64\n",
      "Confidence    9 non-null int64\n",
      "Efforts       9 non-null int64\n",
      "dtypes: int64(4), object(1)\n",
      "memory usage: 488.0+ bytes\n",
      "<class 'pandas.core.frame.DataFrame'>\n",
      "RangeIndex: 1197 entries, 0 to 1196\n",
      "Data columns (total 5 columns):\n",
      "transactionId    1197 non-null int64\n",
      "visitorId        1197 non-null int64\n",
      "date             1197 non-null object\n",
      "revenue          1197 non-null int64\n",
      "group            1197 non-null object\n",
      "dtypes: int64(3), object(2)\n",
      "memory usage: 46.9+ KB\n",
      "<class 'pandas.core.frame.DataFrame'>\n",
      "RangeIndex: 62 entries, 0 to 61\n",
      "Data columns (total 3 columns):\n",
      "date        62 non-null object\n",
      "group       62 non-null object\n",
      "visitors    62 non-null int64\n",
      "dtypes: int64(1), object(2)\n",
      "memory usage: 1.6+ KB\n"
     ]
    },
    {
     "data": {
      "text/plain": [
       "None"
      ]
     },
     "metadata": {},
     "output_type": "display_data"
    },
    {
     "data": {
      "text/plain": [
       "None"
      ]
     },
     "metadata": {},
     "output_type": "display_data"
    },
    {
     "data": {
      "text/plain": [
       "None"
      ]
     },
     "metadata": {},
     "output_type": "display_data"
    },
    {
     "data": {
      "text/html": [
       "<div>\n",
       "<style scoped>\n",
       "    .dataframe tbody tr th:only-of-type {\n",
       "        vertical-align: middle;\n",
       "    }\n",
       "\n",
       "    .dataframe tbody tr th {\n",
       "        vertical-align: top;\n",
       "    }\n",
       "\n",
       "    .dataframe thead th {\n",
       "        text-align: right;\n",
       "    }\n",
       "</style>\n",
       "<table border=\"1\" class=\"dataframe\">\n",
       "  <thead>\n",
       "    <tr style=\"text-align: right;\">\n",
       "      <th></th>\n",
       "      <th>Reach</th>\n",
       "      <th>Impact</th>\n",
       "      <th>Confidence</th>\n",
       "      <th>Efforts</th>\n",
       "    </tr>\n",
       "  </thead>\n",
       "  <tbody>\n",
       "    <tr>\n",
       "      <td>count</td>\n",
       "      <td>9.000000</td>\n",
       "      <td>9.000000</td>\n",
       "      <td>9.000000</td>\n",
       "      <td>9.000000</td>\n",
       "    </tr>\n",
       "    <tr>\n",
       "      <td>mean</td>\n",
       "      <td>4.777778</td>\n",
       "      <td>4.777778</td>\n",
       "      <td>5.555556</td>\n",
       "      <td>4.888889</td>\n",
       "    </tr>\n",
       "    <tr>\n",
       "      <td>std</td>\n",
       "      <td>3.153481</td>\n",
       "      <td>3.192874</td>\n",
       "      <td>3.045944</td>\n",
       "      <td>2.803767</td>\n",
       "    </tr>\n",
       "    <tr>\n",
       "      <td>min</td>\n",
       "      <td>1.000000</td>\n",
       "      <td>1.000000</td>\n",
       "      <td>1.000000</td>\n",
       "      <td>1.000000</td>\n",
       "    </tr>\n",
       "    <tr>\n",
       "      <td>25%</td>\n",
       "      <td>3.000000</td>\n",
       "      <td>3.000000</td>\n",
       "      <td>3.000000</td>\n",
       "      <td>3.000000</td>\n",
       "    </tr>\n",
       "    <tr>\n",
       "      <td>50%</td>\n",
       "      <td>3.000000</td>\n",
       "      <td>3.000000</td>\n",
       "      <td>7.000000</td>\n",
       "      <td>5.000000</td>\n",
       "    </tr>\n",
       "    <tr>\n",
       "      <td>75%</td>\n",
       "      <td>8.000000</td>\n",
       "      <td>7.000000</td>\n",
       "      <td>8.000000</td>\n",
       "      <td>6.000000</td>\n",
       "    </tr>\n",
       "    <tr>\n",
       "      <td>max</td>\n",
       "      <td>10.000000</td>\n",
       "      <td>10.000000</td>\n",
       "      <td>9.000000</td>\n",
       "      <td>10.000000</td>\n",
       "    </tr>\n",
       "  </tbody>\n",
       "</table>\n",
       "</div>"
      ],
      "text/plain": [
       "           Reach     Impact  Confidence    Efforts\n",
       "count   9.000000   9.000000    9.000000   9.000000\n",
       "mean    4.777778   4.777778    5.555556   4.888889\n",
       "std     3.153481   3.192874    3.045944   2.803767\n",
       "min     1.000000   1.000000    1.000000   1.000000\n",
       "25%     3.000000   3.000000    3.000000   3.000000\n",
       "50%     3.000000   3.000000    7.000000   5.000000\n",
       "75%     8.000000   7.000000    8.000000   6.000000\n",
       "max    10.000000  10.000000    9.000000  10.000000"
      ]
     },
     "metadata": {},
     "output_type": "display_data"
    },
    {
     "data": {
      "text/html": [
       "<div>\n",
       "<style scoped>\n",
       "    .dataframe tbody tr th:only-of-type {\n",
       "        vertical-align: middle;\n",
       "    }\n",
       "\n",
       "    .dataframe tbody tr th {\n",
       "        vertical-align: top;\n",
       "    }\n",
       "\n",
       "    .dataframe thead th {\n",
       "        text-align: right;\n",
       "    }\n",
       "</style>\n",
       "<table border=\"1\" class=\"dataframe\">\n",
       "  <thead>\n",
       "    <tr style=\"text-align: right;\">\n",
       "      <th></th>\n",
       "      <th>transactionId</th>\n",
       "      <th>visitorId</th>\n",
       "      <th>revenue</th>\n",
       "    </tr>\n",
       "  </thead>\n",
       "  <tbody>\n",
       "    <tr>\n",
       "      <td>count</td>\n",
       "      <td>1.197000e+03</td>\n",
       "      <td>1.197000e+03</td>\n",
       "      <td>1.197000e+03</td>\n",
       "    </tr>\n",
       "    <tr>\n",
       "      <td>mean</td>\n",
       "      <td>2.155621e+09</td>\n",
       "      <td>2.165960e+09</td>\n",
       "      <td>8.348006e+03</td>\n",
       "    </tr>\n",
       "    <tr>\n",
       "      <td>std</td>\n",
       "      <td>1.229085e+09</td>\n",
       "      <td>1.236014e+09</td>\n",
       "      <td>3.919113e+04</td>\n",
       "    </tr>\n",
       "    <tr>\n",
       "      <td>min</td>\n",
       "      <td>1.062393e+06</td>\n",
       "      <td>5.114589e+06</td>\n",
       "      <td>5.000000e+01</td>\n",
       "    </tr>\n",
       "    <tr>\n",
       "      <td>25%</td>\n",
       "      <td>1.166776e+09</td>\n",
       "      <td>1.111826e+09</td>\n",
       "      <td>1.220000e+03</td>\n",
       "    </tr>\n",
       "    <tr>\n",
       "      <td>50%</td>\n",
       "      <td>2.145194e+09</td>\n",
       "      <td>2.217985e+09</td>\n",
       "      <td>2.978000e+03</td>\n",
       "    </tr>\n",
       "    <tr>\n",
       "      <td>75%</td>\n",
       "      <td>3.237740e+09</td>\n",
       "      <td>3.177606e+09</td>\n",
       "      <td>8.290000e+03</td>\n",
       "    </tr>\n",
       "    <tr>\n",
       "      <td>max</td>\n",
       "      <td>4.293856e+09</td>\n",
       "      <td>4.283872e+09</td>\n",
       "      <td>1.294500e+06</td>\n",
       "    </tr>\n",
       "  </tbody>\n",
       "</table>\n",
       "</div>"
      ],
      "text/plain": [
       "       transactionId     visitorId       revenue\n",
       "count   1.197000e+03  1.197000e+03  1.197000e+03\n",
       "mean    2.155621e+09  2.165960e+09  8.348006e+03\n",
       "std     1.229085e+09  1.236014e+09  3.919113e+04\n",
       "min     1.062393e+06  5.114589e+06  5.000000e+01\n",
       "25%     1.166776e+09  1.111826e+09  1.220000e+03\n",
       "50%     2.145194e+09  2.217985e+09  2.978000e+03\n",
       "75%     3.237740e+09  3.177606e+09  8.290000e+03\n",
       "max     4.293856e+09  4.283872e+09  1.294500e+06"
      ]
     },
     "metadata": {},
     "output_type": "display_data"
    },
    {
     "data": {
      "text/html": [
       "<div>\n",
       "<style scoped>\n",
       "    .dataframe tbody tr th:only-of-type {\n",
       "        vertical-align: middle;\n",
       "    }\n",
       "\n",
       "    .dataframe tbody tr th {\n",
       "        vertical-align: top;\n",
       "    }\n",
       "\n",
       "    .dataframe thead th {\n",
       "        text-align: right;\n",
       "    }\n",
       "</style>\n",
       "<table border=\"1\" class=\"dataframe\">\n",
       "  <thead>\n",
       "    <tr style=\"text-align: right;\">\n",
       "      <th></th>\n",
       "      <th>visitors</th>\n",
       "    </tr>\n",
       "  </thead>\n",
       "  <tbody>\n",
       "    <tr>\n",
       "      <td>count</td>\n",
       "      <td>62.000000</td>\n",
       "    </tr>\n",
       "    <tr>\n",
       "      <td>mean</td>\n",
       "      <td>607.290323</td>\n",
       "    </tr>\n",
       "    <tr>\n",
       "      <td>std</td>\n",
       "      <td>114.400560</td>\n",
       "    </tr>\n",
       "    <tr>\n",
       "      <td>min</td>\n",
       "      <td>361.000000</td>\n",
       "    </tr>\n",
       "    <tr>\n",
       "      <td>25%</td>\n",
       "      <td>534.000000</td>\n",
       "    </tr>\n",
       "    <tr>\n",
       "      <td>50%</td>\n",
       "      <td>624.500000</td>\n",
       "    </tr>\n",
       "    <tr>\n",
       "      <td>75%</td>\n",
       "      <td>710.500000</td>\n",
       "    </tr>\n",
       "    <tr>\n",
       "      <td>max</td>\n",
       "      <td>770.000000</td>\n",
       "    </tr>\n",
       "  </tbody>\n",
       "</table>\n",
       "</div>"
      ],
      "text/plain": [
       "         visitors\n",
       "count   62.000000\n",
       "mean   607.290323\n",
       "std    114.400560\n",
       "min    361.000000\n",
       "25%    534.000000\n",
       "50%    624.500000\n",
       "75%    710.500000\n",
       "max    770.000000"
      ]
     },
     "metadata": {},
     "output_type": "display_data"
    }
   ],
   "source": [
    "pd.options.display.max_colwidth = 150\n",
    "hypotheses = pd.read_csv('/Users/polina_lunyova/Documents/It/projects/final_version/6_Принятие_решений_в_бизнесе/hypothesis.csv')\n",
    "orders = pd.read_csv('/Users/polina_lunyova/Documents/It/projects/final_version/6_Принятие_решений_в_бизнесе/orders.csv')\n",
    "visitors = pd.read_csv('/Users/polina_lunyova/Documents/It/projects/final_version/6_Принятие_решений_в_бизнесе/visitors.csv')\n",
    "display(hypotheses, orders.head(), visitors.head())\n",
    "\n",
    "display(hypotheses.info(), orders.info(), visitors.info())\n",
    "display(hypotheses.describe(), orders.describe(), visitors.describe())"
   ]
  },
  {
   "cell_type": "code",
   "execution_count": 27,
   "metadata": {},
   "outputs": [
    {
     "data": {
      "text/plain": [
       "hypothesis    0\n",
       "reach         0\n",
       "impact        0\n",
       "confidence    0\n",
       "efforts       0\n",
       "dtype: int64"
      ]
     },
     "metadata": {},
     "output_type": "display_data"
    },
    {
     "data": {
      "text/plain": [
       "transaction_id    0\n",
       "visitor_id        0\n",
       "date              0\n",
       "revenue           0\n",
       "group             0\n",
       "dtype: int64"
      ]
     },
     "metadata": {},
     "output_type": "display_data"
    },
    {
     "data": {
      "text/plain": [
       "date        0\n",
       "group       0\n",
       "visitors    0\n",
       "dtype: int64"
      ]
     },
     "metadata": {},
     "output_type": "display_data"
    }
   ],
   "source": [
    "# приведем название столбцов к нижнему регистру\n",
    "hypotheses = hypotheses.rename(columns=str.lower)\n",
    "\n",
    "# изменяем названия столбцов\n",
    "orders = orders.rename(columns = {'transactionId' : 'transaction_id', 'visitorId' : 'visitor_id'}) \n",
    "\n",
    "# изменяем тип данных \n",
    "visitors['date'] = pd.to_datetime(visitors['date'], format = '%Y-%m-%d')\n",
    "orders['date'] = pd.to_datetime(orders['date'], format = '%Y-%m-%d')\n",
    "\n",
    "# определяем пропущенные значения\n",
    "display(hypotheses.isna().sum())\n",
    "display(orders.isna().sum())\n",
    "display(visitors.isna().sum())"
   ]
  },
  {
   "cell_type": "markdown",
   "metadata": {},
   "source": [
    "Пользователи могли попасть в две группы одновременно. Чтобы не искажался результат эксперимента, отфильтруем данные и удалим дублированых пользователей."
   ]
  },
  {
   "cell_type": "code",
   "execution_count": 28,
   "metadata": {},
   "outputs": [
    {
     "data": {
      "text/plain": [
       "group    116\n",
       "dtype: int64"
      ]
     },
     "execution_count": 28,
     "metadata": {},
     "output_type": "execute_result"
    }
   ],
   "source": [
    "# посмотрим количество пользователей, попавших в обе группы\n",
    "(orders.groupby(['visitor_id']) # группируем по айди\n",
    "       .agg({'group':'nunique'}) # считаем количество групп для каждого айди\n",
    "       .query('group > 1')  # выводим результат, где групп больше 1\n",
    "       .sum() # выводим общее количество\n",
    ")"
   ]
  },
  {
   "cell_type": "code",
   "execution_count": 29,
   "metadata": {},
   "outputs": [],
   "source": [
    "# отбираем группы из данных с заказами \n",
    "group_a = orders.query('group == \"A\"') \n",
    "group_b = orders.query('group == \"B\"') \n",
    "  \n",
    "# получаем пользователей, попавших в обе группы \n",
    "group_intersections = list(np.intersect1d(group_a['visitor_id'], group_b['visitor_id']))\n",
    "orders = orders.query('visitor_id not in @group_intersections')"
   ]
  },
  {
   "cell_type": "markdown",
   "metadata": {},
   "source": [
    "##  Приоритизация гипотез. Часть 1"
   ]
  },
  {
   "cell_type": "markdown",
   "metadata": {},
   "source": [
    " Гипотезы приоритизируют, чтобы сократить расходы на эксперименты и запускать тестирование только наиболее перспективных идей.  \n",
    " Есть два самых популярных способа приоритизации задач: ICE и RICE.  \n",
    " Они расчитываются как:  \n",
    " ICE = impact х confidence / efforts  \n",
    " RICE = reach х impact х confidence / efforts   \n",
    " \n",
    "Reach — скольких пользователей затронет изменение, которое вы хотите внести;  \n",
    "Impact — насколько сильно изменение повлияет на пользователей, их опыт и удовлетворение от продукта;   \n",
    "Confidence — насколько вы уверены, что это изменение повлияет на пользователей именно так;  \n",
    "Efforts — сколько стоит протестировать эту гипотезу. "
   ]
  },
  {
   "cell_type": "code",
   "execution_count": 30,
   "metadata": {},
   "outputs": [
    {
     "data": {
      "text/html": [
       "<div>\n",
       "<style scoped>\n",
       "    .dataframe tbody tr th:only-of-type {\n",
       "        vertical-align: middle;\n",
       "    }\n",
       "\n",
       "    .dataframe tbody tr th {\n",
       "        vertical-align: top;\n",
       "    }\n",
       "\n",
       "    .dataframe thead th {\n",
       "        text-align: right;\n",
       "    }\n",
       "</style>\n",
       "<table border=\"1\" class=\"dataframe\">\n",
       "  <thead>\n",
       "    <tr style=\"text-align: right;\">\n",
       "      <th></th>\n",
       "      <th>hypothesis</th>\n",
       "      <th>ICE</th>\n",
       "      <th>RICE</th>\n",
       "    </tr>\n",
       "  </thead>\n",
       "  <tbody>\n",
       "    <tr>\n",
       "      <td>7</td>\n",
       "      <td>Добавить форму подписки на все основные страницы, чтобы собрать базу клиентов для email-рассылок</td>\n",
       "      <td>11.200000</td>\n",
       "      <td>112.0</td>\n",
       "    </tr>\n",
       "    <tr>\n",
       "      <td>2</td>\n",
       "      <td>Добавить блоки рекомендаций товаров на сайт интернет магазина, чтобы повысить конверсию и средний чек заказа</td>\n",
       "      <td>7.000000</td>\n",
       "      <td>56.0</td>\n",
       "    </tr>\n",
       "    <tr>\n",
       "      <td>0</td>\n",
       "      <td>Добавить два новых канала привлечения трафика, что позволит привлекать на 30% больше пользователей</td>\n",
       "      <td>13.333333</td>\n",
       "      <td>40.0</td>\n",
       "    </tr>\n",
       "    <tr>\n",
       "      <td>6</td>\n",
       "      <td>Показать на главной странице баннеры с актуальными акциями и распродажами, чтобы увеличить конверсию</td>\n",
       "      <td>8.000000</td>\n",
       "      <td>40.0</td>\n",
       "    </tr>\n",
       "    <tr>\n",
       "      <td>8</td>\n",
       "      <td>Запустить акцию, дающую скидку на товар в день рождения</td>\n",
       "      <td>16.200000</td>\n",
       "      <td>16.2</td>\n",
       "    </tr>\n",
       "    <tr>\n",
       "      <td>3</td>\n",
       "      <td>Изменить структура категорий, что увеличит конверсию, т.к. пользователи быстрее найдут нужный товар</td>\n",
       "      <td>1.125000</td>\n",
       "      <td>9.0</td>\n",
       "    </tr>\n",
       "    <tr>\n",
       "      <td>1</td>\n",
       "      <td>Запустить собственную службу доставки, что сократит срок доставки заказов</td>\n",
       "      <td>2.000000</td>\n",
       "      <td>4.0</td>\n",
       "    </tr>\n",
       "    <tr>\n",
       "      <td>5</td>\n",
       "      <td>Добавить страницу отзывов клиентов о магазине, что позволит увеличить количество заказов</td>\n",
       "      <td>1.333333</td>\n",
       "      <td>4.0</td>\n",
       "    </tr>\n",
       "    <tr>\n",
       "      <td>4</td>\n",
       "      <td>Изменить цвет фона главной страницы, чтобы увеличить вовлеченность пользователей</td>\n",
       "      <td>1.000000</td>\n",
       "      <td>3.0</td>\n",
       "    </tr>\n",
       "  </tbody>\n",
       "</table>\n",
       "</div>"
      ],
      "text/plain": [
       "                                                                                                     hypothesis  \\\n",
       "7              Добавить форму подписки на все основные страницы, чтобы собрать базу клиентов для email-рассылок   \n",
       "2  Добавить блоки рекомендаций товаров на сайт интернет магазина, чтобы повысить конверсию и средний чек заказа   \n",
       "0            Добавить два новых канала привлечения трафика, что позволит привлекать на 30% больше пользователей   \n",
       "6          Показать на главной странице баннеры с актуальными акциями и распродажами, чтобы увеличить конверсию   \n",
       "8                                                       Запустить акцию, дающую скидку на товар в день рождения   \n",
       "3           Изменить структура категорий, что увеличит конверсию, т.к. пользователи быстрее найдут нужный товар   \n",
       "1                                     Запустить собственную службу доставки, что сократит срок доставки заказов   \n",
       "5                      Добавить страницу отзывов клиентов о магазине, что позволит увеличить количество заказов   \n",
       "4                              Изменить цвет фона главной страницы, чтобы увеличить вовлеченность пользователей   \n",
       "\n",
       "         ICE   RICE  \n",
       "7  11.200000  112.0  \n",
       "2   7.000000   56.0  \n",
       "0  13.333333   40.0  \n",
       "6   8.000000   40.0  \n",
       "8  16.200000   16.2  \n",
       "3   1.125000    9.0  \n",
       "1   2.000000    4.0  \n",
       "5   1.333333    4.0  \n",
       "4   1.000000    3.0  "
      ]
     },
     "metadata": {},
     "output_type": "display_data"
    }
   ],
   "source": [
    "# приоретизируем гипотизы с помощью метода ICE\n",
    "hypotheses['ICE'] = (hypotheses['impact'] * hypotheses['confidence']) / hypotheses['efforts']\n",
    "\n",
    "# приоретизируем гипотизы с помощью метода RICE\n",
    "hypotheses['RICE'] = (hypotheses['reach'] * hypotheses['impact'] * hypotheses['confidence']) / hypotheses['efforts']\n",
    "\n",
    "# визуализация таблицы\n",
    "np.random.seed(0)\n",
    "hypotheses.style\n",
    "\n",
    "display(hypotheses[['hypothesis', 'ICE', 'RICE']].sort_values(by='RICE', ascending=False))"
   ]
  },
  {
   "cell_type": "markdown",
   "metadata": {},
   "source": [
    "Наиболее перспективные гипотезы по ICE: 8, 0, 7.   \n",
    "Наиболее перспективные гипотезы по RICE: 7, 2, 0, 6. \n",
    "\n",
    "Приоритизация гипотез при применении RICE вместо ICE изменилась. Гипотеза 7 возглавила список по приоритетности т.к. ее параметр 'reach'(количество затронутых пользователей при изменении продукта) равен 10."
   ]
  },
  {
   "cell_type": "markdown",
   "metadata": {},
   "source": [
    "##  Анализ A/B-теста. Часть 2"
   ]
  },
  {
   "cell_type": "code",
   "execution_count": 31,
   "metadata": {},
   "outputs": [
    {
     "data": {
      "text/html": [
       "<div>\n",
       "<style scoped>\n",
       "    .dataframe tbody tr th:only-of-type {\n",
       "        vertical-align: middle;\n",
       "    }\n",
       "\n",
       "    .dataframe tbody tr th {\n",
       "        vertical-align: top;\n",
       "    }\n",
       "\n",
       "    .dataframe thead th {\n",
       "        text-align: right;\n",
       "    }\n",
       "</style>\n",
       "<table border=\"1\" class=\"dataframe\">\n",
       "  <thead>\n",
       "    <tr style=\"text-align: right;\">\n",
       "      <th></th>\n",
       "      <th>transaction_id</th>\n",
       "      <th>visitor_id</th>\n",
       "      <th>date</th>\n",
       "      <th>revenue</th>\n",
       "      <th>group</th>\n",
       "    </tr>\n",
       "  </thead>\n",
       "  <tbody>\n",
       "    <tr>\n",
       "      <td>0</td>\n",
       "      <td>3667963787</td>\n",
       "      <td>3312258926</td>\n",
       "      <td>2019-08-15</td>\n",
       "      <td>1650</td>\n",
       "      <td>B</td>\n",
       "    </tr>\n",
       "    <tr>\n",
       "      <td>1</td>\n",
       "      <td>2804400009</td>\n",
       "      <td>3642806036</td>\n",
       "      <td>2019-08-15</td>\n",
       "      <td>730</td>\n",
       "      <td>B</td>\n",
       "    </tr>\n",
       "    <tr>\n",
       "      <td>3</td>\n",
       "      <td>3797467345</td>\n",
       "      <td>1196621759</td>\n",
       "      <td>2019-08-15</td>\n",
       "      <td>9759</td>\n",
       "      <td>B</td>\n",
       "    </tr>\n",
       "    <tr>\n",
       "      <td>4</td>\n",
       "      <td>2282983706</td>\n",
       "      <td>2322279887</td>\n",
       "      <td>2019-08-15</td>\n",
       "      <td>2308</td>\n",
       "      <td>B</td>\n",
       "    </tr>\n",
       "    <tr>\n",
       "      <td>5</td>\n",
       "      <td>182168103</td>\n",
       "      <td>935554773</td>\n",
       "      <td>2019-08-15</td>\n",
       "      <td>2210</td>\n",
       "      <td>B</td>\n",
       "    </tr>\n",
       "  </tbody>\n",
       "</table>\n",
       "</div>"
      ],
      "text/plain": [
       "   transaction_id  visitor_id       date  revenue group\n",
       "0      3667963787  3312258926 2019-08-15     1650     B\n",
       "1      2804400009  3642806036 2019-08-15      730     B\n",
       "3      3797467345  1196621759 2019-08-15     9759     B\n",
       "4      2282983706  2322279887 2019-08-15     2308     B\n",
       "5       182168103   935554773 2019-08-15     2210     B"
      ]
     },
     "metadata": {},
     "output_type": "display_data"
    },
    {
     "data": {
      "text/html": [
       "<div>\n",
       "<style scoped>\n",
       "    .dataframe tbody tr th:only-of-type {\n",
       "        vertical-align: middle;\n",
       "    }\n",
       "\n",
       "    .dataframe tbody tr th {\n",
       "        vertical-align: top;\n",
       "    }\n",
       "\n",
       "    .dataframe thead th {\n",
       "        text-align: right;\n",
       "    }\n",
       "</style>\n",
       "<table border=\"1\" class=\"dataframe\">\n",
       "  <thead>\n",
       "    <tr style=\"text-align: right;\">\n",
       "      <th></th>\n",
       "      <th>date</th>\n",
       "      <th>group</th>\n",
       "      <th>orders</th>\n",
       "      <th>buyers</th>\n",
       "      <th>revenue</th>\n",
       "      <th>visitors</th>\n",
       "    </tr>\n",
       "  </thead>\n",
       "  <tbody>\n",
       "    <tr>\n",
       "      <td>0</td>\n",
       "      <td>2019-08-01</td>\n",
       "      <td>A</td>\n",
       "      <td>23</td>\n",
       "      <td>19</td>\n",
       "      <td>142779</td>\n",
       "      <td>719</td>\n",
       "    </tr>\n",
       "    <tr>\n",
       "      <td>1</td>\n",
       "      <td>2019-08-01</td>\n",
       "      <td>B</td>\n",
       "      <td>17</td>\n",
       "      <td>17</td>\n",
       "      <td>59758</td>\n",
       "      <td>713</td>\n",
       "    </tr>\n",
       "    <tr>\n",
       "      <td>2</td>\n",
       "      <td>2019-08-02</td>\n",
       "      <td>A</td>\n",
       "      <td>42</td>\n",
       "      <td>36</td>\n",
       "      <td>234381</td>\n",
       "      <td>1338</td>\n",
       "    </tr>\n",
       "    <tr>\n",
       "      <td>3</td>\n",
       "      <td>2019-08-02</td>\n",
       "      <td>B</td>\n",
       "      <td>40</td>\n",
       "      <td>39</td>\n",
       "      <td>221801</td>\n",
       "      <td>1294</td>\n",
       "    </tr>\n",
       "    <tr>\n",
       "      <td>4</td>\n",
       "      <td>2019-08-03</td>\n",
       "      <td>A</td>\n",
       "      <td>66</td>\n",
       "      <td>60</td>\n",
       "      <td>346854</td>\n",
       "      <td>1845</td>\n",
       "    </tr>\n",
       "  </tbody>\n",
       "</table>\n",
       "</div>"
      ],
      "text/plain": [
       "        date group  orders  buyers  revenue  visitors\n",
       "0 2019-08-01     A      23      19   142779       719\n",
       "1 2019-08-01     B      17      17    59758       713\n",
       "2 2019-08-02     A      42      36   234381      1338\n",
       "3 2019-08-02     B      40      39   221801      1294\n",
       "4 2019-08-03     A      66      60   346854      1845"
      ]
     },
     "metadata": {},
     "output_type": "display_data"
    }
   ],
   "source": [
    "# построим график кумулятивной выручки по группам\n",
    "# создаем массив уникальных пар значений дат и групп теста\n",
    "datesGroups = orders[['date','group']].drop_duplicates()\n",
    "\n",
    "# получаем агрегированные кумулятивные по дням данные о заказах \n",
    "ordersAggregated = datesGroups.apply(lambda x: orders[np.logical_and(orders['date'] <= x['date'], orders['group'] == x['group'])]\\\n",
    "                                     .agg({'date' : 'max', 'group' : 'max', 'transaction_id' : 'nunique', 'visitor_id' : 'nunique', 'revenue' : 'sum'}),\n",
    "                                     axis=1).sort_values(by=['date','group'])\n",
    "\n",
    "# получаем агрегированные кумулятивные по дням данные о посетителях интернет-магазина \n",
    "visitorsAggregated = datesGroups.apply(lambda x: visitors[np.logical_and(visitors['date'] <= x['date'], visitors['group'] == x['group'])]\\\n",
    "                                       .agg({'date' : 'max', 'group' : 'max', 'visitors' : 'sum'}),\n",
    "                                       axis=1).sort_values(by=['date','group'])\n",
    "\n",
    "# объединяем кумулятивные данные в одной таблице и присваиваем ее столбцам понятные названия\n",
    "cumulativeData = ordersAggregated.merge(visitorsAggregated, left_on=['date', 'group'], right_on=['date', 'group'])\n",
    "cumulativeData.columns = ['date', 'group', 'orders', 'buyers', 'revenue', 'visitors']\n",
    "\n",
    "display(orders.head(5))\n",
    "display(cumulativeData.head(5))"
   ]
  },
  {
   "cell_type": "code",
   "execution_count": 32,
   "metadata": {},
   "outputs": [
    {
     "data": {
      "image/png": "[encoded data removed]",
      "text/plain": [
       "<Figure size 432x288 with 1 Axes>"
      ]
     },
     "metadata": {
      "needs_background": "light"
     },
     "output_type": "display_data"
    }
   ],
   "source": [
    "# построим график кумулятивной выручки по группам\n",
    "# датафрейм с кумулятивным количеством заказов и кумулятивной выручкой по дням в группе А\n",
    "cumulativeRevenueA = cumulativeData[cumulativeData['group']=='A'][['date','revenue', 'orders']]\n",
    "\n",
    "# датафрейм с кумулятивным количеством заказов и кумулятивной выручкой по дням в группе B\n",
    "cumulativeRevenueB = cumulativeData[cumulativeData['group']=='B'][['date','revenue', 'orders']]\n",
    "\n",
    "# строим график выручки группы А\n",
    "plt.plot(cumulativeRevenueA['date'], cumulativeRevenueA['revenue'], label='A')\n",
    "\n",
    "# строим график выручки группы B\n",
    "plt.plot(cumulativeRevenueB['date'], cumulativeRevenueB['revenue'], label='B')\n",
    "\n",
    "plt.title('Кумулятивная выручка по группам')\n",
    "plt.ylabel('Выручка (млн.)')\n",
    "plt.xlabel('Дата')\n",
    "plt.legend()\n",
    "plt.xticks(rotation=90)\n",
    "plt.show()"
   ]
  },
  {
   "cell_type": "markdown",
   "metadata": {},
   "source": [
    "В середине теста группа \"В\" вырвалась вперед и продолжала лидировать весь остаток теста. \n",
    "Это может сигнализировать о всплесках числа заказов, либо о появлении очень дорогих заказов в выборке."
   ]
  },
  {
   "cell_type": "code",
   "execution_count": 33,
   "metadata": {},
   "outputs": [
    {
     "data": {
      "image/png": "[encoded data removed]",
      "text/plain": [
       "<Figure size 432x288 with 1 Axes>"
      ]
     },
     "metadata": {
      "needs_background": "light"
     },
     "output_type": "display_data"
    }
   ],
   "source": [
    "# построим графики среднего чека по группам — разделим кумулятивную выручку на кумулятивное число заказов\n",
    "plt.plot(cumulativeRevenueA['date'], cumulativeRevenueA['revenue']/cumulativeRevenueA['orders'], label='A')\n",
    "plt.plot(cumulativeRevenueB['date'], cumulativeRevenueB['revenue']/cumulativeRevenueB['orders'], label='B')\n",
    "plt.legend()\n",
    "plt.title('Кумулятивный средний чек по группам')\n",
    "plt.ylabel('Cредний чек')\n",
    "plt.xlabel('Дата')\n",
    "plt.xticks(rotation=90)\n",
    "plt.show()\n"
   ]
  },
  {
   "cell_type": "markdown",
   "metadata": {},
   "source": [
    "Кумулятивное значение среднего чека по группам не равномерен на протяжении всего теста. Возможно, в группу B во второй половине теста попали крупные заказы (резкий всплеск на графике). Скорее всего, принимать решение по этой метрике рано. Требуется дополнительный анализ выбросов, которые так сильно искажают результаты."
   ]
  },
  {
   "cell_type": "code",
   "execution_count": 34,
   "metadata": {},
   "outputs": [
    {
     "data": {
      "image/png": "[encoded data removed]",
      "text/plain": [
       "<Figure size 432x288 with 1 Axes>"
      ]
     },
     "metadata": {
      "needs_background": "light"
     },
     "output_type": "display_data"
    }
   ],
   "source": [
    "# построим график относительного изменения кумулятивного среднего чека группы B к группе A\n",
    "# собираем данные в одном датафрейме\n",
    "mergedCumulativeRevenue = cumulativeRevenueA.merge(cumulativeRevenueB, left_on='date', right_on='date', how='left', suffixes=['A', 'B'])\n",
    "\n",
    "# cтроим отношение средних чеков\n",
    "plt.plot(mergedCumulativeRevenue['date'], (mergedCumulativeRevenue['revenueB']/mergedCumulativeRevenue['ordersB'])/(mergedCumulativeRevenue['revenueA']/mergedCumulativeRevenue['ordersA'])-1)\n",
    "\n",
    "# добавляем ось X\n",
    "plt.axhline(y=0, color='black', linestyle='--')\n",
    "\n",
    "plt.title('Изменения кумулятивного средненго чека по группам')\n",
    "plt.ylabel('Cредний чек')\n",
    "plt.xlabel('Дата')\n",
    "plt.xticks(rotation=90)\n",
    "plt.show()\n"
   ]
  },
  {
   "cell_type": "markdown",
   "metadata": {},
   "source": [
    "Результаты теста нескольких датах резко меняются. Значит именно тогда были совершены аномальные заказы."
   ]
  },
  {
   "cell_type": "code",
   "execution_count": 35,
   "metadata": {},
   "outputs": [
    {
     "data": {
      "image/png": "[encoded data removed]",
      "text/plain": [
       "<Figure size 432x288 with 1 Axes>"
      ]
     },
     "metadata": {
      "needs_background": "light"
     },
     "output_type": "display_data"
    }
   ],
   "source": [
    "# построим график кумулятивной конверсии по группам\n",
    "# считаем кумулятивную конверсию\n",
    "cumulativeData['conversion'] = cumulativeData['orders']/cumulativeData['visitors']\n",
    "\n",
    "# отделяем данные по группе A\n",
    "cumulativeDataA = cumulativeData[cumulativeData['group']=='A']\n",
    "\n",
    "# отделяем данные по группе B\n",
    "cumulativeDataB = cumulativeData[cumulativeData['group']=='B']\n",
    "\n",
    "# строим графики\n",
    "plt.plot(cumulativeDataA['date'], cumulativeDataA['conversion'], label='A')\n",
    "plt.plot(cumulativeDataB['date'], cumulativeDataB['conversion'], label='B')\n",
    "plt.legend()\n",
    "\n",
    "# задаем масштаб осей\n",
    "plt.axis([dt.datetime(2019, 8, 1), dt.datetime(2019, 9, 1), 0, 0.05])\n",
    "plt.title('Кумулятивная конверсия по группам')\n",
    "plt.ylabel('')\n",
    "plt.xlabel('Дата')\n",
    "plt.xticks(rotation=90)\n",
    "plt.show()"
   ]
  },
  {
   "cell_type": "markdown",
   "metadata": {},
   "source": [
    "В начале теста группа \"А\" имела большую конверсию, но позже группа \"В\" переросла ее и зафиксировалась примерно на одном значении. "
   ]
  },
  {
   "cell_type": "code",
   "execution_count": 36,
   "metadata": {},
   "outputs": [
    {
     "data": {
      "image/png": "[encoded data removed]",
      "text/plain": [
       "<Figure size 432x288 with 1 Axes>"
      ]
     },
     "metadata": {
      "needs_background": "light"
     },
     "output_type": "display_data"
    }
   ],
   "source": [
    "# Построим график относительного различия кумулятивных конверсий\n",
    "mergedCumulativeConversions = cumulativeDataA[['date','conversion']].merge(cumulativeDataB[['date','conversion']], left_on='date', right_on='date', how='left', suffixes=['A', 'B'])\n",
    "\n",
    "plt.plot(mergedCumulativeConversions['date'], mergedCumulativeConversions['conversionB']/mergedCumulativeConversions['conversionA']-1, label=\"Относительный прирост конверсии группы B относительно группы A\")\n",
    "\n",
    "plt.axhline(y=0, color='black', linestyle='--')\n",
    "plt.axhline(y=-0.1, color='grey', linestyle='--')\n",
    "plt.axis([dt.datetime(2019, 8, 1), dt.datetime(2019, 9, 1),  -0.5, 0.5])\n",
    "plt.title('Относительное изменение кумулятивной конверсии группы \"B\" к группе \"A\"')\n",
    "plt.ylabel('')\n",
    "plt.xlabel('Дата')\n",
    "plt.xticks(rotation=90)\n",
    "plt.show()"
   ]
  },
  {
   "cell_type": "code",
   "execution_count": 37,
   "metadata": {},
   "outputs": [
    {
     "data": {
      "image/png": "[encoded data removed]",
      "text/plain": [
       "<Figure size 432x288 with 1 Axes>"
      ]
     },
     "metadata": {
      "needs_background": "light"
     },
     "output_type": "display_data"
    }
   ],
   "source": [
    "# построим точечный график количества заказов по пользователям\n",
    "ordersByUsers = (\n",
    "    orders.groupby('visitor_id', as_index=False)\n",
    "    .agg({'transaction_id': pd.Series.nunique})\n",
    ")\n",
    "ordersByUsers.columns = ['visitor_id', 'orders']\n",
    "\n",
    "x_values = pd.Series(range(0, len(ordersByUsers)))\n",
    "\n",
    "plt.scatter(x_values, ordersByUsers['orders']) \n",
    "plt.title('График количества заказов по пользователям')\n",
    "plt.ylabel('Количество заказов')\n",
    "plt.xlabel('Количество пользователей')\n",
    "plt.show()"
   ]
  },
  {
   "cell_type": "markdown",
   "metadata": {},
   "source": [
    "Большинство пользователей сделало до 2-х заказов. Остальные пользователли вполне могут быть аномальными. Далее посчитаем перцентили, чтобы точнее определить границу аномальных пользователей."
   ]
  },
  {
   "cell_type": "code",
   "execution_count": 38,
   "metadata": {},
   "outputs": [
    {
     "name": "stdout",
     "output_type": "stream",
     "text": [
      "[1. 2.]\n"
     ]
    }
   ],
   "source": [
    "# посчитаем 95-й и 99-й перцентили количества заказов на пользователя\n",
    "print(np.percentile(ordersByUsers['orders'], [95, 99]))  "
   ]
  },
  {
   "cell_type": "markdown",
   "metadata": {},
   "source": [
    "Не более 5% пользователей совершали больше 1 заказа и не более 1% пользователей более 2-х заказов.\n",
    "Разумно будет определить пользователей, совершивших более 1 заказа аномальными."
   ]
  },
  {
   "cell_type": "code",
   "execution_count": 39,
   "metadata": {},
   "outputs": [
    {
     "data": {
      "image/png": "[encoded data removed]",
      "text/plain": [
       "<Figure size 432x288 with 1 Axes>"
      ]
     },
     "metadata": {
      "needs_background": "light"
     },
     "output_type": "display_data"
    }
   ],
   "source": [
    "# построим точечный график стоимостей заказов\n",
    "x_values = pd.Series(range(0,len(orders['revenue'])))\n",
    "plt.scatter(x_values, orders['revenue']) \n",
    "plt.title('График стоимостей заказов')\n",
    "plt.ylabel('Стоимость заказов (тыс.руб.)')\n",
    "plt.xlabel('Количество пользователей')\n",
    "plt.show()"
   ]
  },
  {
   "cell_type": "markdown",
   "metadata": {},
   "source": [
    "Заказы в основном до 100 тыс.руб. Есть небольшие выбросы до 200 тыс.руб. и 1250 тыс.руб., но их не так много."
   ]
  },
  {
   "cell_type": "code",
   "execution_count": 40,
   "metadata": {},
   "outputs": [
    {
     "name": "stdout",
     "output_type": "stream",
     "text": [
      "[26785. 53904.]\n"
     ]
    }
   ],
   "source": [
    "# посчитаем 95-й и 99-й перцентили стоимости заказов\n",
    "print(np.percentile(orders['revenue'], [95, 99])) "
   ]
  },
  {
   "cell_type": "markdown",
   "metadata": {},
   "source": [
    "Не более, чем у 5% заказов чек дороже 27 тыс.руб. И не больше, чем у 1% заказов дороже 54 тыс.руб. Будет разумно определить границу пользователей с аномальными заказами больше 27 тыс.руб."
   ]
  },
  {
   "cell_type": "markdown",
   "metadata": {},
   "source": [
    "Посчитаем статистическую значимость различий в конверсии и среднем чеке между группами по «сырым» данным — без удаления аномальных пользователей.\n",
    "\n",
    "Сформулируем гипотезы:  \n",
    "Нулевая(H0) - различий в конверсии между группами нет.  \n",
    "Альтернативная(H1) - различия в конверсии между группами есть."
   ]
  },
  {
   "cell_type": "code",
   "execution_count": 41,
   "metadata": {},
   "outputs": [
    {
     "data": {
      "text/html": [
       "<div>\n",
       "<style scoped>\n",
       "    .dataframe tbody tr th:only-of-type {\n",
       "        vertical-align: middle;\n",
       "    }\n",
       "\n",
       "    .dataframe tbody tr th {\n",
       "        vertical-align: top;\n",
       "    }\n",
       "\n",
       "    .dataframe thead th {\n",
       "        text-align: right;\n",
       "    }\n",
       "</style>\n",
       "<table border=\"1\" class=\"dataframe\">\n",
       "  <thead>\n",
       "    <tr style=\"text-align: right;\">\n",
       "      <th></th>\n",
       "      <th>date</th>\n",
       "      <th>ordersPerDateA</th>\n",
       "      <th>revenuePerDateA</th>\n",
       "      <th>ordersPerDateB</th>\n",
       "      <th>revenuePerDateB</th>\n",
       "      <th>ordersCummulativeA</th>\n",
       "      <th>revenueCummulativeA</th>\n",
       "      <th>ordersCummulativeB</th>\n",
       "      <th>revenueCummulativeB</th>\n",
       "      <th>visitorsPerDateA</th>\n",
       "      <th>visitorsPerDateB</th>\n",
       "      <th>visitorsCummulativeA</th>\n",
       "      <th>visitorsCummulativeB</th>\n",
       "    </tr>\n",
       "  </thead>\n",
       "  <tbody>\n",
       "    <tr>\n",
       "      <td>0</td>\n",
       "      <td>2019-08-01</td>\n",
       "      <td>23</td>\n",
       "      <td>142779</td>\n",
       "      <td>17</td>\n",
       "      <td>59758</td>\n",
       "      <td>23</td>\n",
       "      <td>142779</td>\n",
       "      <td>17</td>\n",
       "      <td>59758</td>\n",
       "      <td>719</td>\n",
       "      <td>713</td>\n",
       "      <td>719</td>\n",
       "      <td>713</td>\n",
       "    </tr>\n",
       "    <tr>\n",
       "      <td>1</td>\n",
       "      <td>2019-08-02</td>\n",
       "      <td>19</td>\n",
       "      <td>91602</td>\n",
       "      <td>23</td>\n",
       "      <td>162043</td>\n",
       "      <td>42</td>\n",
       "      <td>234381</td>\n",
       "      <td>40</td>\n",
       "      <td>221801</td>\n",
       "      <td>619</td>\n",
       "      <td>581</td>\n",
       "      <td>1338</td>\n",
       "      <td>1294</td>\n",
       "    </tr>\n",
       "    <tr>\n",
       "      <td>2</td>\n",
       "      <td>2019-08-03</td>\n",
       "      <td>24</td>\n",
       "      <td>112473</td>\n",
       "      <td>14</td>\n",
       "      <td>67049</td>\n",
       "      <td>66</td>\n",
       "      <td>346854</td>\n",
       "      <td>54</td>\n",
       "      <td>288850</td>\n",
       "      <td>507</td>\n",
       "      <td>509</td>\n",
       "      <td>1845</td>\n",
       "      <td>1803</td>\n",
       "    </tr>\n",
       "    <tr>\n",
       "      <td>3</td>\n",
       "      <td>2019-08-04</td>\n",
       "      <td>11</td>\n",
       "      <td>41176</td>\n",
       "      <td>14</td>\n",
       "      <td>96890</td>\n",
       "      <td>77</td>\n",
       "      <td>388030</td>\n",
       "      <td>68</td>\n",
       "      <td>385740</td>\n",
       "      <td>717</td>\n",
       "      <td>770</td>\n",
       "      <td>2562</td>\n",
       "      <td>2573</td>\n",
       "    </tr>\n",
       "    <tr>\n",
       "      <td>4</td>\n",
       "      <td>2019-08-05</td>\n",
       "      <td>22</td>\n",
       "      <td>86383</td>\n",
       "      <td>21</td>\n",
       "      <td>89908</td>\n",
       "      <td>99</td>\n",
       "      <td>474413</td>\n",
       "      <td>89</td>\n",
       "      <td>475648</td>\n",
       "      <td>756</td>\n",
       "      <td>707</td>\n",
       "      <td>3318</td>\n",
       "      <td>3280</td>\n",
       "    </tr>\n",
       "  </tbody>\n",
       "</table>\n",
       "</div>"
      ],
      "text/plain": [
       "        date  ordersPerDateA  revenuePerDateA  ordersPerDateB  \\\n",
       "0 2019-08-01              23           142779              17   \n",
       "1 2019-08-02              19            91602              23   \n",
       "2 2019-08-03              24           112473              14   \n",
       "3 2019-08-04              11            41176              14   \n",
       "4 2019-08-05              22            86383              21   \n",
       "\n",
       "   revenuePerDateB  ordersCummulativeA  revenueCummulativeA  \\\n",
       "0            59758                  23               142779   \n",
       "1           162043                  42               234381   \n",
       "2            67049                  66               346854   \n",
       "3            96890                  77               388030   \n",
       "4            89908                  99               474413   \n",
       "\n",
       "   ordersCummulativeB  revenueCummulativeB  visitorsPerDateA  \\\n",
       "0                  17                59758               719   \n",
       "1                  40               221801               619   \n",
       "2                  54               288850               507   \n",
       "3                  68               385740               717   \n",
       "4                  89               475648               756   \n",
       "\n",
       "   visitorsPerDateB  visitorsCummulativeA  visitorsCummulativeB  \n",
       "0               713                   719                   713  \n",
       "1               581                  1338                  1294  \n",
       "2               509                  1845                  1803  \n",
       "3               770                  2562                  2573  \n",
       "4               707                  3318                  3280  "
      ]
     },
     "metadata": {},
     "output_type": "display_data"
    },
    {
     "name": "stdout",
     "output_type": "stream",
     "text": [
      "p-value: 0.00551\n",
      "Oтносительный прирост конверсии группы B: 0.160\n"
     ]
    }
   ],
   "source": [
    "# посчитаем статистическую значимость различий в конверсии между группами по «сырым» данным\n",
    "\n",
    "visitorsADaily = visitors[visitors['group'] == 'A'][['date', 'visitors']]\n",
    "visitorsADaily.columns = ['date', 'visitorsPerDateA']\n",
    "\n",
    "visitorsACummulative = visitorsADaily.apply(\n",
    "    lambda x: visitorsADaily[visitorsADaily['date'] <= x['date']].agg(\n",
    "        {'date': 'max', 'visitorsPerDateA': 'sum'}\n",
    "    ),\n",
    "    axis=1,\n",
    ")\n",
    "visitorsACummulative.columns = ['date', 'visitorsCummulativeA']\n",
    "\n",
    "visitorsBDaily = visitors[visitors['group'] == 'B'][['date', 'visitors']]\n",
    "visitorsBDaily.columns = ['date', 'visitorsPerDateB']\n",
    "\n",
    "visitorsBCummulative = visitorsBDaily.apply(\n",
    "    lambda x: visitorsBDaily[visitorsBDaily['date'] <= x['date']].agg(\n",
    "        {'date': 'max', 'visitorsPerDateB': 'sum'}\n",
    "    ),\n",
    "    axis=1,\n",
    ")\n",
    "visitorsBCummulative.columns = ['date', 'visitorsCummulativeB']\n",
    "\n",
    "ordersADaily = (\n",
    "    orders[orders['group'] == 'A'][['date', 'transaction_id', 'visitor_id', 'revenue']]\n",
    "    .groupby('date', as_index=False)\n",
    "    .agg({'transaction_id': pd.Series.nunique, 'revenue': 'sum'})\n",
    ")\n",
    "ordersADaily.columns = ['date', 'ordersPerDateA', 'revenuePerDateA']\n",
    "\n",
    "ordersACummulative = ordersADaily.apply(\n",
    "    lambda x: ordersADaily[ordersADaily['date'] <= x['date']].agg(\n",
    "        {'date': 'max', 'ordersPerDateA': 'sum', 'revenuePerDateA': 'sum'}\n",
    "    ),\n",
    "    axis=1,\n",
    ").sort_values(by=['date'])\n",
    "ordersACummulative.columns = [\n",
    "    'date',\n",
    "    'ordersCummulativeA',\n",
    "    'revenueCummulativeA',\n",
    "]\n",
    "\n",
    "ordersBDaily = (\n",
    "    orders[orders['group'] == 'B'][['date', 'transaction_id', 'visitor_id', 'revenue']]\n",
    "    .groupby('date', as_index=False)\n",
    "    .agg({'transaction_id': pd.Series.nunique, 'revenue': 'sum'})\n",
    ")\n",
    "ordersBDaily.columns = ['date', 'ordersPerDateB', 'revenuePerDateB']\n",
    "\n",
    "ordersBCummulative = ordersBDaily.apply(\n",
    "    lambda x: ordersBDaily[ordersBDaily['date'] <= x['date']].agg(\n",
    "        {'date': 'max', 'ordersPerDateB': 'sum', 'revenuePerDateB': 'sum'}\n",
    "    ),\n",
    "    axis=1,\n",
    ").sort_values(by=['date'])\n",
    "ordersBCummulative.columns = [\n",
    "    'date',\n",
    "    'ordersCummulativeB',\n",
    "    'revenueCummulativeB',\n",
    "]\n",
    "\n",
    "data = (\n",
    "    ordersADaily.merge(\n",
    "        ordersBDaily, left_on='date', right_on='date', how='left'\n",
    "    )\n",
    "    .merge(ordersACummulative, left_on='date', right_on='date', how='left')\n",
    "    .merge(ordersBCummulative, left_on='date', right_on='date', how='left')\n",
    "    .merge(visitorsADaily, left_on='date', right_on='date', how='left')\n",
    "    .merge(visitorsBDaily, left_on='date', right_on='date', how='left')\n",
    "    .merge(visitorsACummulative, left_on='date', right_on='date', how='left')\n",
    "    .merge(visitorsBCummulative, left_on='date', right_on='date', how='left')\n",
    ")\n",
    "\n",
    "display(data.head(5))\n",
    "\n",
    "# посчитаем статистическую значимость различия в конверсии между группами\n",
    "ordersByUsersA = (\n",
    "    orders[orders['group'] == 'A']\n",
    "    .groupby('visitor_id', as_index=False)\n",
    "    .agg({'transaction_id': pd.Series.nunique})\n",
    ")\n",
    "ordersByUsersA.columns = ['transaction_id', 'orders']\n",
    "\n",
    "ordersByUsersB = (\n",
    "    orders[orders['group'] == 'B']\n",
    "    .groupby('visitor_id', as_index=False)\n",
    "    .agg({'transaction_id': pd.Series.nunique})\n",
    ")\n",
    "ordersByUsersB.columns = ['transaction_id', 'orders']\n",
    "\n",
    "sampleA = pd.concat(\n",
    "    [\n",
    "        ordersByUsersA['orders'],\n",
    "        pd.Series(\n",
    "            0,\n",
    "            index=np.arange(\n",
    "                data['visitorsPerDateA'].sum() - len(ordersByUsersA['orders'])\n",
    "            ),\n",
    "            name='orders',\n",
    "        ),\n",
    "    ],\n",
    "    axis=0,\n",
    ")\n",
    "\n",
    "sampleB = pd.concat(\n",
    "    [\n",
    "        ordersByUsersB['orders'],\n",
    "        pd.Series(\n",
    "            0,\n",
    "            index=np.arange(\n",
    "                data['visitorsPerDateB'].sum() - len(ordersByUsersB['orders'])\n",
    "            ),\n",
    "            name='orders',\n",
    "        ),\n",
    "    ],\n",
    "    axis=0,\n",
    ")\n",
    "\n",
    "print('p-value:', \"{0:.5f}\".format(stats.mannwhitneyu(sampleA, sampleB)[1]))\n",
    "print('Oтносительный прирост конверсии группы B:', \"{0:.3f}\".format((data['ordersPerDateB'].sum()/data['visitorsPerDateB'].sum())/(data['ordersPerDateA'].sum()/data['visitorsPerDateA'].sum())-1))\n"
   ]
  },
  {
   "cell_type": "markdown",
   "metadata": {},
   "source": [
    "Отвергаем нулевую гепотезу т.к. значение р-value = 0.00551 (это значительно меньше 0.05). Анализ \"сырых данных\" сообщает, что в конверсии между группами A и B есть статистически значимые различия. Относительный прирост конверсии группы В к конверсии группы А равен 16%"
   ]
  },
  {
   "cell_type": "code",
   "execution_count": 42,
   "metadata": {},
   "outputs": [
    {
     "name": "stdout",
     "output_type": "stream",
     "text": [
      "p-value: 0.415\n",
      "Oтносительный прирост среднего чека группы B: 0.287\n"
     ]
    }
   ],
   "source": [
    "# посчитаем статистическую значимость различий в среднем чеке заказа между группами по «сырым» данным\n",
    "print('p-value:', '{0:.3f}'.format(stats.mannwhitneyu(orders[orders['group']=='A']['revenue'], orders[orders['group']=='B']['revenue'])[1]))\n",
    "print('Oтносительный прирост среднего чека группы B:', '{0:.3f}'.format(orders[orders['group']=='B']['revenue'].mean()/orders[orders['group']=='A']['revenue'].mean()-1))"
   ]
  },
  {
   "cell_type": "markdown",
   "metadata": {},
   "source": [
    "Р-value значительно больше 0.05, значит статистически значимых отличий в среднем чеке между группами нет. Наблюдаемое различие в 28.7% не является статистически значимым."
   ]
  },
  {
   "cell_type": "code",
   "execution_count": 43,
   "metadata": {},
   "outputs": [
    {
     "data": {
      "text/plain": [
       "33      249864742\n",
       "1099    316924019\n",
       "551     323958042\n",
       "1087    324171086\n",
       "751     348143148\n",
       "Name: transaction_id, dtype: int64"
      ]
     },
     "metadata": {},
     "output_type": "display_data"
    },
    {
     "name": "stdout",
     "output_type": "stream",
     "text": [
      "Количество аномальных пользователей: 87\n"
     ]
    }
   ],
   "source": [
    "# узнаем, сколько всего аномальных пользователей\n",
    "usersWithManyOrders = pd.concat(\n",
    "    [\n",
    "        ordersByUsersA[ordersByUsersA['orders'] > 1]['transaction_id'],\n",
    "        ordersByUsersB[ordersByUsersB['orders'] > 1]['transaction_id'],\n",
    "    ],\n",
    "    axis=0,\n",
    ")\n",
    "revenue_lim = 27000\n",
    "usersWithExpensiveOrders = orders[orders['revenue'] > revenue_lim]['transaction_id']\n",
    "abnormalUsers = (\n",
    "    pd.concat([usersWithManyOrders, usersWithExpensiveOrders], axis=0)\n",
    "    .drop_duplicates()\n",
    "    .sort_values()\n",
    ")\n",
    "display(abnormalUsers.head(5))\n",
    "print('Количество аномальных пользователей:', abnormalUsers.shape[0])"
   ]
  },
  {
   "cell_type": "code",
   "execution_count": 44,
   "metadata": {},
   "outputs": [
    {
     "name": "stdout",
     "output_type": "stream",
     "text": [
      "p-value: 0.00469\n",
      "Oтносительный прирост конверсии очищенной группы B: 0.183\n"
     ]
    }
   ],
   "source": [
    "# посчитаем статистическую значимость различий в конверсии между группами по «очищенным» данным\n",
    "# подготовим выборки количества заказов по пользователям по группам теста\n",
    "sampleAFiltered = pd.concat(\n",
    "    [\n",
    "        ordersByUsersA[\n",
    "            np.logical_not(ordersByUsersA['transaction_id'].isin(abnormalUsers))\n",
    "        ]['orders'],\n",
    "        pd.Series(\n",
    "            0,\n",
    "            index=np.arange(\n",
    "                data['visitorsPerDateA'].sum() - len(ordersByUsersA['orders'])\n",
    "            ),\n",
    "            name='orders',\n",
    "        ),\n",
    "    ],\n",
    "    axis=0,\n",
    ")\n",
    "\n",
    "sampleBFiltered = pd.concat(\n",
    "    [\n",
    "        ordersByUsersB[\n",
    "            np.logical_not(ordersByUsersB['transaction_id'].isin(abnormalUsers))\n",
    "        ]['orders'],\n",
    "        pd.Series(\n",
    "            0,\n",
    "            index=np.arange(\n",
    "                data['visitorsPerDateB'].sum() - len(ordersByUsersB['orders'])\n",
    "            ),\n",
    "            name='orders',\n",
    "        ),\n",
    "    ],\n",
    "    axis=0,\n",
    ")\n",
    "# применим статистический критерий Манна-Уитни к полученным выборкам\n",
    "print('p-value:', '{0:.5f}'.format(stats.mannwhitneyu(sampleAFiltered, sampleBFiltered)[1]))\n",
    "print('Oтносительный прирост конверсии очищенной группы B:', '{0:.3f}'.format(sampleBFiltered.mean()/sampleAFiltered.mean()-1))"
   ]
  },
  {
   "cell_type": "markdown",
   "metadata": {},
   "source": [
    "Как и в случае с \"сырыми\" данными статистическая значимость достигнута. Сегмент В значительно лучше сегмента А."
   ]
  },
  {
   "cell_type": "code",
   "execution_count": 45,
   "metadata": {},
   "outputs": [
    {
     "name": "stdout",
     "output_type": "stream",
     "text": [
      "p-value: 0.349\n",
      "Oтносительный прирост среднего чека очищенной группы B: -0.059\n"
     ]
    }
   ],
   "source": [
    "# посчитаем статистическую значимость различий в среднем чеке заказа между группами по «очищенным» данным\n",
    "\n",
    "print('p-value:',\n",
    "    '{0:.3f}'.format(\n",
    "        stats.mannwhitneyu(\n",
    "            orders[\n",
    "                np.logical_and(\n",
    "                    orders['group'] == 'A',\n",
    "                    np.logical_not(orders['transaction_id'].isin(abnormalUsers)),\n",
    "                )\n",
    "            ]['revenue'],\n",
    "            orders[\n",
    "                np.logical_and(\n",
    "                    orders['group'] == 'B',\n",
    "                    np.logical_not(orders['transaction_id'].isin(abnormalUsers)),\n",
    "                )\n",
    "            ]['revenue'],\n",
    "        )[1]\n",
    "    )\n",
    ")\n",
    "\n",
    "print('Oтносительный прирост среднего чека очищенной группы B:',  \n",
    "    \"{0:.3f}\".format(\n",
    "        orders[\n",
    "            np.logical_and(\n",
    "                orders['group'] == 'B',\n",
    "                np.logical_not(orders['transaction_id'].isin(abnormalUsers)),\n",
    "            )\n",
    "        ]['revenue'].mean()\n",
    "        / orders[\n",
    "            np.logical_and(\n",
    "                orders['group'] == 'A',\n",
    "                np.logical_not(orders['transaction_id'].isin(abnormalUsers)),\n",
    "            )\n",
    "        ]['revenue'].mean()\n",
    "        - 1\n",
    "    )\n",
    ")"
   ]
  },
  {
   "cell_type": "markdown",
   "metadata": {},
   "source": [
    "P-value увеличился, но и разница между сегментами значительно сократилась с 28% до 2%"
   ]
  },
  {
   "cell_type": "markdown",
   "metadata": {},
   "source": [
    "Промежуточные выводы по тесту:  \n",
    "- Есть статистически значимое различие по конверсии между группами как по сырым данным, так и после фильтрации аномалий;  \n",
    "- Нет статистически значимого различия по среднему чеку между группами ни по «сырым», ни по данным после фильтрации аномалий;  \n",
    "- График различия конверсии между группами сообщает, что результаты группы B лучше группы A: показалели группы В в последней трети эксперимента выросли и стабилизировались;  \n",
    "- График различия среднего чека колеблется: он и позволил нам найти аномалии."
   ]
  },
  {
   "cell_type": "markdown",
   "metadata": {},
   "source": [
    "## Вывод"
   ]
  },
  {
   "cell_type": "markdown",
   "metadata": {},
   "source": [
    "По результатам приоритизации можно выделить следующие гипотезы:  \n",
    "№ 7. Добавить форму подписки на все основные страницы, чтобы собрать базу клиентов для email-рассылок;  \n",
    "№ 0. Добавить два новых канала привлечения трафика, что позволит привлекать на 30% больше пользователей. \n",
    "\n",
    "Во время проведения A/B-теста были обнаружены аномальные значения.  \n",
    "В начале теста группа \"А\" имела большую конверсию, но позже группа \"В\" переросла ее и остальную треть эксперимента была стабилизирована.  \n",
    "В основном пользователи совершали до 1-го заказа на сумму до 27 тыс.руб., остальные значения были признаны как аномальные.  \n",
    "По результатам теста сегмент В был признан лучше сегмента А.  \n"
   ]
  }
 ],
 "metadata": {
  "ExecuteTimeLog": [
   {
    "duration": 578,
    "start_time": "2022-03-27T17:19:28.337Z"
   },
   {
    "duration": 13,
    "start_time": "2022-03-27T17:19:46.247Z"
   },
   {
    "duration": 32,
    "start_time": "2022-03-27T17:19:51.714Z"
   },
   {
    "duration": 111,
    "start_time": "2022-03-27T17:20:16.546Z"
   },
   {
    "duration": 19,
    "start_time": "2022-03-27T17:20:21.756Z"
   },
   {
    "duration": 2972,
    "start_time": "2022-03-27T17:20:25.848Z"
   },
   {
    "duration": 15,
    "start_time": "2022-03-27T17:21:14.955Z"
   },
   {
    "duration": 20,
    "start_time": "2022-03-27T17:39:30.865Z"
   },
   {
    "duration": 21,
    "start_time": "2022-03-27T17:39:36.533Z"
   },
   {
    "duration": 33,
    "start_time": "2022-03-27T17:41:26.694Z"
   },
   {
    "duration": 40,
    "start_time": "2022-03-27T17:43:04.733Z"
   },
   {
    "duration": 40,
    "start_time": "2022-03-27T17:43:12.166Z"
   },
   {
    "duration": 71,
    "start_time": "2022-03-27T17:43:31.893Z"
   },
   {
    "duration": 67,
    "start_time": "2022-03-27T17:43:36.285Z"
   },
   {
    "duration": 55,
    "start_time": "2022-03-27T17:44:31.461Z"
   },
   {
    "duration": 486,
    "start_time": "2022-04-03T03:17:02.309Z"
   },
   {
    "duration": 3,
    "start_time": "2022-04-03T03:17:02.797Z"
   },
   {
    "duration": 43,
    "start_time": "2022-04-03T03:47:02.673Z"
   },
   {
    "duration": 7,
    "start_time": "2022-04-03T03:47:02.718Z"
   },
   {
    "duration": 4,
    "start_time": "2022-04-03T03:49:29.833Z"
   },
   {
    "duration": 9,
    "start_time": "2022-04-03T03:49:34.633Z"
   },
   {
    "duration": 3,
    "start_time": "2022-04-03T03:51:23.511Z"
   },
   {
    "duration": 8,
    "start_time": "2022-04-03T04:01:08.254Z"
   },
   {
    "duration": 60,
    "start_time": "2022-04-03T04:01:34.253Z"
   },
   {
    "duration": 5,
    "start_time": "2022-04-03T04:02:10.794Z"
   },
   {
    "duration": 5,
    "start_time": "2022-04-03T04:02:16.074Z"
   },
   {
    "duration": 8,
    "start_time": "2022-04-03T04:02:52.874Z"
   },
   {
    "duration": 6,
    "start_time": "2022-04-03T04:02:59.834Z"
   },
   {
    "duration": 6,
    "start_time": "2022-04-03T04:06:26.875Z"
   },
   {
    "duration": 7,
    "start_time": "2022-04-03T04:08:21.035Z"
   },
   {
    "duration": 4,
    "start_time": "2022-04-03T04:10:11.235Z"
   },
   {
    "duration": 11,
    "start_time": "2022-04-03T04:10:22.996Z"
   },
   {
    "duration": 14,
    "start_time": "2022-04-03T04:10:36.635Z"
   },
   {
    "duration": 12,
    "start_time": "2022-04-03T04:10:56.683Z"
   },
   {
    "duration": 13,
    "start_time": "2022-04-03T04:11:32.107Z"
   },
   {
    "duration": 17,
    "start_time": "2022-04-03T04:11:46.306Z"
   },
   {
    "duration": 12,
    "start_time": "2022-04-03T04:11:55.226Z"
   },
   {
    "duration": 9,
    "start_time": "2022-04-03T04:12:34.874Z"
   },
   {
    "duration": 10,
    "start_time": "2022-04-03T04:12:56.209Z"
   },
   {
    "duration": 430,
    "start_time": "2022-04-04T03:31:29.653Z"
   },
   {
    "duration": 8,
    "start_time": "2022-04-04T03:31:30.085Z"
   },
   {
    "duration": 13,
    "start_time": "2022-04-04T03:31:30.094Z"
   },
   {
    "duration": 10,
    "start_time": "2022-04-04T03:31:30.110Z"
   },
   {
    "duration": 9,
    "start_time": "2022-04-04T03:31:30.122Z"
   },
   {
    "duration": 7,
    "start_time": "2022-04-04T03:31:30.133Z"
   },
   {
    "duration": 135,
    "start_time": "2022-04-04T05:36:56.441Z"
   },
   {
    "duration": 121,
    "start_time": "2022-04-04T05:37:43.531Z"
   },
   {
    "duration": 133,
    "start_time": "2022-04-04T05:38:37.815Z"
   },
   {
    "duration": 124,
    "start_time": "2022-04-04T05:38:41.321Z"
   },
   {
    "duration": 123,
    "start_time": "2022-04-04T05:39:04.973Z"
   },
   {
    "duration": 4,
    "start_time": "2022-04-04T05:47:35.886Z"
   },
   {
    "duration": 62,
    "start_time": "2022-04-04T05:47:42.886Z"
   },
   {
    "duration": 118,
    "start_time": "2022-04-04T05:47:53.163Z"
   },
   {
    "duration": 3,
    "start_time": "2022-04-04T05:47:53.283Z"
   },
   {
    "duration": 14,
    "start_time": "2022-04-04T05:47:53.287Z"
   },
   {
    "duration": 12,
    "start_time": "2022-04-04T05:47:53.302Z"
   },
   {
    "duration": 6,
    "start_time": "2022-04-04T05:47:53.316Z"
   },
   {
    "duration": 5,
    "start_time": "2022-04-04T05:47:53.324Z"
   },
   {
    "duration": 10,
    "start_time": "2022-04-04T05:48:08.825Z"
   },
   {
    "duration": 9,
    "start_time": "2022-04-04T05:48:22.703Z"
   },
   {
    "duration": 186,
    "start_time": "2022-04-04T05:54:51.855Z"
   },
   {
    "duration": 8,
    "start_time": "2022-04-04T05:54:56.614Z"
   },
   {
    "duration": 7,
    "start_time": "2022-04-04T05:56:47.475Z"
   },
   {
    "duration": 8,
    "start_time": "2022-04-04T05:59:28.194Z"
   },
   {
    "duration": 7,
    "start_time": "2022-04-04T06:02:53.590Z"
   },
   {
    "duration": 8,
    "start_time": "2022-04-04T06:03:28.681Z"
   },
   {
    "duration": 121,
    "start_time": "2022-04-04T06:05:02.978Z"
   },
   {
    "duration": 12,
    "start_time": "2022-04-04T06:05:03.101Z"
   },
   {
    "duration": 12,
    "start_time": "2022-04-04T06:05:03.114Z"
   },
   {
    "duration": 12,
    "start_time": "2022-04-04T06:05:03.128Z"
   },
   {
    "duration": 3,
    "start_time": "2022-04-04T06:05:03.142Z"
   },
   {
    "duration": 6,
    "start_time": "2022-04-04T06:05:03.146Z"
   },
   {
    "duration": 14,
    "start_time": "2022-04-04T06:05:18.233Z"
   },
   {
    "duration": 6,
    "start_time": "2022-04-04T06:47:25.015Z"
   },
   {
    "duration": 137,
    "start_time": "2022-04-04T06:47:29.228Z"
   },
   {
    "duration": 5,
    "start_time": "2022-04-04T06:47:29.367Z"
   },
   {
    "duration": 35,
    "start_time": "2022-04-04T06:47:29.373Z"
   },
   {
    "duration": 16,
    "start_time": "2022-04-04T06:47:29.409Z"
   },
   {
    "duration": 4,
    "start_time": "2022-04-04T06:47:29.427Z"
   },
   {
    "duration": 5,
    "start_time": "2022-04-04T06:47:29.432Z"
   },
   {
    "duration": 7,
    "start_time": "2022-04-04T06:48:23.452Z"
   },
   {
    "duration": 16,
    "start_time": "2022-04-04T06:49:34.281Z"
   },
   {
    "duration": 24,
    "start_time": "2022-04-04T06:49:53.731Z"
   },
   {
    "duration": 22,
    "start_time": "2022-04-04T06:49:59.697Z"
   },
   {
    "duration": 19,
    "start_time": "2022-04-04T06:50:02.672Z"
   },
   {
    "duration": 17,
    "start_time": "2022-04-04T06:50:07.972Z"
   },
   {
    "duration": 658,
    "start_time": "2022-04-04T11:30:31.885Z"
   },
   {
    "duration": 52,
    "start_time": "2022-04-04T11:30:32.545Z"
   },
   {
    "duration": 16,
    "start_time": "2022-04-04T11:30:32.599Z"
   },
   {
    "duration": 121,
    "start_time": "2022-04-04T11:30:32.618Z"
   },
   {
    "duration": 0,
    "start_time": "2022-04-04T11:30:32.742Z"
   },
   {
    "duration": 0,
    "start_time": "2022-04-04T11:30:32.744Z"
   },
   {
    "duration": 712,
    "start_time": "2022-04-04T11:35:06.490Z"
   },
   {
    "duration": 25,
    "start_time": "2022-04-04T11:35:07.205Z"
   },
   {
    "duration": 18,
    "start_time": "2022-04-04T11:35:07.232Z"
   },
   {
    "duration": 22,
    "start_time": "2022-04-04T11:35:07.282Z"
   },
   {
    "duration": 0,
    "start_time": "2022-04-04T11:35:07.306Z"
   },
   {
    "duration": 0,
    "start_time": "2022-04-04T11:35:07.309Z"
   },
   {
    "duration": 16,
    "start_time": "2022-04-04T11:36:46.396Z"
   },
   {
    "duration": 39,
    "start_time": "2022-04-04T11:47:18.622Z"
   },
   {
    "duration": 55,
    "start_time": "2022-04-04T11:49:09.972Z"
   },
   {
    "duration": 38,
    "start_time": "2022-04-04T11:49:39.535Z"
   },
   {
    "duration": 323,
    "start_time": "2022-04-04T11:51:10.409Z"
   },
   {
    "duration": 591,
    "start_time": "2022-04-04T11:52:29.339Z"
   },
   {
    "duration": 157,
    "start_time": "2022-04-04T11:54:29.009Z"
   },
   {
    "duration": 179,
    "start_time": "2022-04-04T11:54:34.635Z"
   },
   {
    "duration": 26,
    "start_time": "2022-04-04T11:54:34.817Z"
   },
   {
    "duration": 15,
    "start_time": "2022-04-04T11:54:34.845Z"
   },
   {
    "duration": 29,
    "start_time": "2022-04-04T11:54:34.893Z"
   },
   {
    "duration": 8,
    "start_time": "2022-04-04T11:54:34.925Z"
   },
   {
    "duration": 975,
    "start_time": "2022-04-04T11:54:34.935Z"
   },
   {
    "duration": 981,
    "start_time": "2022-04-04T11:55:13.901Z"
   },
   {
    "duration": 322,
    "start_time": "2022-04-04T11:57:03.893Z"
   },
   {
    "duration": 270,
    "start_time": "2022-04-04T11:57:13.824Z"
   },
   {
    "duration": 164,
    "start_time": "2022-04-04T12:07:50.052Z"
   },
   {
    "duration": 26,
    "start_time": "2022-04-04T12:07:50.219Z"
   },
   {
    "duration": 51,
    "start_time": "2022-04-04T12:07:50.249Z"
   },
   {
    "duration": 24,
    "start_time": "2022-04-04T12:07:50.304Z"
   },
   {
    "duration": 6,
    "start_time": "2022-04-04T12:07:50.330Z"
   },
   {
    "duration": 747,
    "start_time": "2022-04-04T12:07:50.339Z"
   },
   {
    "duration": 267,
    "start_time": "2022-04-04T12:07:51.089Z"
   },
   {
    "duration": 787,
    "start_time": "2022-04-04T12:11:20.220Z"
   },
   {
    "duration": 801,
    "start_time": "2022-04-04T12:11:48.633Z"
   },
   {
    "duration": 757,
    "start_time": "2022-04-04T12:14:10.529Z"
   },
   {
    "duration": 790,
    "start_time": "2022-04-04T12:14:49.767Z"
   },
   {
    "duration": 816,
    "start_time": "2022-04-04T12:14:55.444Z"
   },
   {
    "duration": 786,
    "start_time": "2022-04-04T12:15:12.437Z"
   },
   {
    "duration": 892,
    "start_time": "2022-04-04T12:16:22.121Z"
   },
   {
    "duration": 162,
    "start_time": "2022-04-04T12:16:31.026Z"
   },
   {
    "duration": 29,
    "start_time": "2022-04-04T12:16:31.191Z"
   },
   {
    "duration": 29,
    "start_time": "2022-04-04T12:16:31.222Z"
   },
   {
    "duration": 43,
    "start_time": "2022-04-04T12:16:31.253Z"
   },
   {
    "duration": 21,
    "start_time": "2022-04-04T12:16:31.301Z"
   },
   {
    "duration": 746,
    "start_time": "2022-04-04T12:16:31.324Z"
   },
   {
    "duration": 278,
    "start_time": "2022-04-04T12:16:32.073Z"
   },
   {
    "duration": 786,
    "start_time": "2022-04-04T12:22:44.145Z"
   },
   {
    "duration": 757,
    "start_time": "2022-04-04T12:24:17.796Z"
   },
   {
    "duration": 179,
    "start_time": "2022-04-04T12:44:19.320Z"
   },
   {
    "duration": 34,
    "start_time": "2022-04-04T12:44:19.501Z"
   },
   {
    "duration": 14,
    "start_time": "2022-04-04T12:44:19.537Z"
   },
   {
    "duration": 31,
    "start_time": "2022-04-04T12:44:19.553Z"
   },
   {
    "duration": 4,
    "start_time": "2022-04-04T12:44:19.588Z"
   },
   {
    "duration": 1028,
    "start_time": "2022-04-04T12:44:19.601Z"
   },
   {
    "duration": 294,
    "start_time": "2022-04-04T12:44:20.631Z"
   },
   {
    "duration": 306,
    "start_time": "2022-04-04T12:47:49.114Z"
   },
   {
    "duration": 1353,
    "start_time": "2022-04-04T14:51:32.317Z"
   },
   {
    "duration": 23,
    "start_time": "2022-04-04T14:51:33.673Z"
   },
   {
    "duration": 48,
    "start_time": "2022-04-04T14:51:33.698Z"
   },
   {
    "duration": 16,
    "start_time": "2022-04-04T14:51:33.748Z"
   },
   {
    "duration": 4,
    "start_time": "2022-04-04T14:51:33.767Z"
   },
   {
    "duration": 880,
    "start_time": "2022-04-04T14:51:33.773Z"
   },
   {
    "duration": 277,
    "start_time": "2022-04-04T14:51:34.656Z"
   },
   {
    "duration": 1265,
    "start_time": "2022-04-05T13:55:43.537Z"
   },
   {
    "duration": 24,
    "start_time": "2022-04-05T13:55:44.805Z"
   },
   {
    "duration": 44,
    "start_time": "2022-04-05T13:55:44.831Z"
   },
   {
    "duration": 15,
    "start_time": "2022-04-05T13:55:44.878Z"
   },
   {
    "duration": 3,
    "start_time": "2022-04-05T13:55:44.896Z"
   },
   {
    "duration": 891,
    "start_time": "2022-04-05T13:55:44.902Z"
   },
   {
    "duration": 300,
    "start_time": "2022-04-05T13:55:45.795Z"
   },
   {
    "duration": 190,
    "start_time": "2022-04-05T15:20:18.299Z"
   },
   {
    "duration": 23,
    "start_time": "2022-04-05T15:20:18.492Z"
   },
   {
    "duration": 14,
    "start_time": "2022-04-05T15:20:18.517Z"
   },
   {
    "duration": 15,
    "start_time": "2022-04-05T15:20:18.567Z"
   },
   {
    "duration": 4,
    "start_time": "2022-04-05T15:20:18.585Z"
   },
   {
    "duration": 761,
    "start_time": "2022-04-05T15:20:18.592Z"
   },
   {
    "duration": 341,
    "start_time": "2022-04-05T15:20:19.355Z"
   },
   {
    "duration": 755,
    "start_time": "2022-04-05T15:25:26.941Z"
   },
   {
    "duration": 384,
    "start_time": "2022-04-05T15:42:52.670Z"
   },
   {
    "duration": 452,
    "start_time": "2022-04-05T15:43:47.475Z"
   },
   {
    "duration": 384,
    "start_time": "2022-04-05T15:43:55.054Z"
   },
   {
    "duration": 336,
    "start_time": "2022-04-05T15:44:06.110Z"
   },
   {
    "duration": 356,
    "start_time": "2022-04-05T15:44:11.692Z"
   },
   {
    "duration": 393,
    "start_time": "2022-04-05T15:46:45.887Z"
   },
   {
    "duration": 326,
    "start_time": "2022-04-05T15:49:06.245Z"
   },
   {
    "duration": 286,
    "start_time": "2022-04-05T15:51:55.385Z"
   },
   {
    "duration": 299,
    "start_time": "2022-04-05T15:52:35.452Z"
   },
   {
    "duration": 364,
    "start_time": "2022-04-05T15:52:55.632Z"
   },
   {
    "duration": 865,
    "start_time": "2022-04-06T05:02:55.900Z"
   },
   {
    "duration": 16,
    "start_time": "2022-04-06T05:02:56.767Z"
   },
   {
    "duration": 10,
    "start_time": "2022-04-06T05:02:56.784Z"
   },
   {
    "duration": 38,
    "start_time": "2022-04-06T05:02:56.795Z"
   },
   {
    "duration": 4,
    "start_time": "2022-04-06T05:02:56.835Z"
   },
   {
    "duration": 478,
    "start_time": "2022-04-06T05:02:56.841Z"
   },
   {
    "duration": 156,
    "start_time": "2022-04-06T05:02:57.321Z"
   },
   {
    "duration": 310,
    "start_time": "2022-04-06T05:02:57.479Z"
   },
   {
    "duration": 281,
    "start_time": "2022-04-06T05:02:57.791Z"
   },
   {
    "duration": 1247,
    "start_time": "2022-04-06T09:40:08.261Z"
   },
   {
    "duration": 25,
    "start_time": "2022-04-06T09:40:09.511Z"
   },
   {
    "duration": 42,
    "start_time": "2022-04-06T09:40:09.538Z"
   },
   {
    "duration": 15,
    "start_time": "2022-04-06T09:40:09.582Z"
   },
   {
    "duration": 4,
    "start_time": "2022-04-06T09:40:09.600Z"
   },
   {
    "duration": 881,
    "start_time": "2022-04-06T09:40:09.607Z"
   },
   {
    "duration": 289,
    "start_time": "2022-04-06T09:40:10.490Z"
   },
   {
    "duration": 401,
    "start_time": "2022-04-06T09:40:10.781Z"
   },
   {
    "duration": 452,
    "start_time": "2022-04-06T09:40:11.185Z"
   },
   {
    "duration": 284,
    "start_time": "2022-04-06T09:46:06.667Z"
   },
   {
    "duration": 158,
    "start_time": "2022-04-06T09:46:26.613Z"
   },
   {
    "duration": 22,
    "start_time": "2022-04-06T09:46:26.773Z"
   },
   {
    "duration": 15,
    "start_time": "2022-04-06T09:46:26.797Z"
   },
   {
    "duration": 55,
    "start_time": "2022-04-06T09:46:26.814Z"
   },
   {
    "duration": 5,
    "start_time": "2022-04-06T09:46:26.872Z"
   },
   {
    "duration": 474,
    "start_time": "2022-04-06T09:46:26.879Z"
   },
   {
    "duration": 290,
    "start_time": "2022-04-06T09:46:27.356Z"
   },
   {
    "duration": 300,
    "start_time": "2022-04-06T09:46:27.648Z"
   },
   {
    "duration": 395,
    "start_time": "2022-04-06T09:46:27.950Z"
   },
   {
    "duration": 308,
    "start_time": "2022-04-06T09:46:28.347Z"
   },
   {
    "duration": 452,
    "start_time": "2022-04-06T09:51:23.001Z"
   },
   {
    "duration": 481,
    "start_time": "2022-04-06T09:51:41.298Z"
   },
   {
    "duration": 454,
    "start_time": "2022-04-06T09:54:38.804Z"
   },
   {
    "duration": 281,
    "start_time": "2022-04-06T09:54:44.182Z"
   },
   {
    "duration": 254,
    "start_time": "2022-04-06T10:25:56.492Z"
   },
   {
    "duration": 317,
    "start_time": "2022-04-06T10:27:26.968Z"
   },
   {
    "duration": 974,
    "start_time": "2022-04-06T14:17:50.130Z"
   },
   {
    "duration": 20,
    "start_time": "2022-04-06T14:17:51.106Z"
   },
   {
    "duration": 11,
    "start_time": "2022-04-06T14:17:51.128Z"
   },
   {
    "duration": 10,
    "start_time": "2022-04-06T14:17:51.141Z"
   },
   {
    "duration": 3,
    "start_time": "2022-04-06T14:17:51.153Z"
   },
   {
    "duration": 316,
    "start_time": "2022-04-06T14:17:51.158Z"
   },
   {
    "duration": 270,
    "start_time": "2022-04-06T14:17:51.476Z"
   },
   {
    "duration": 196,
    "start_time": "2022-04-06T14:17:51.749Z"
   },
   {
    "duration": 375,
    "start_time": "2022-04-06T14:17:51.947Z"
   },
   {
    "duration": 179,
    "start_time": "2022-04-06T14:17:52.324Z"
   },
   {
    "duration": 374,
    "start_time": "2022-04-06T14:17:52.505Z"
   },
   {
    "duration": 293,
    "start_time": "2022-04-06T14:21:20.722Z"
   },
   {
    "duration": 283,
    "start_time": "2022-04-06T14:21:26.822Z"
   },
   {
    "duration": 0,
    "start_time": "2022-04-06T14:23:09.430Z"
   },
   {
    "duration": 0,
    "start_time": "2022-04-06T14:23:09.432Z"
   },
   {
    "duration": 0,
    "start_time": "2022-04-06T14:23:09.433Z"
   },
   {
    "duration": 0,
    "start_time": "2022-04-06T14:23:09.435Z"
   },
   {
    "duration": 0,
    "start_time": "2022-04-06T14:23:09.436Z"
   },
   {
    "duration": 0,
    "start_time": "2022-04-06T14:23:09.438Z"
   },
   {
    "duration": 0,
    "start_time": "2022-04-06T14:23:09.439Z"
   },
   {
    "duration": 0,
    "start_time": "2022-04-06T14:23:09.441Z"
   },
   {
    "duration": 0,
    "start_time": "2022-04-06T14:23:09.442Z"
   },
   {
    "duration": 0,
    "start_time": "2022-04-06T14:23:09.443Z"
   },
   {
    "duration": 0,
    "start_time": "2022-04-06T14:23:09.445Z"
   },
   {
    "duration": 139,
    "start_time": "2022-04-06T14:23:16.035Z"
   },
   {
    "duration": 41,
    "start_time": "2022-04-06T14:23:16.177Z"
   },
   {
    "duration": 13,
    "start_time": "2022-04-06T14:23:16.221Z"
   },
   {
    "duration": 19,
    "start_time": "2022-04-06T14:23:16.237Z"
   },
   {
    "duration": 56,
    "start_time": "2022-04-06T14:23:16.259Z"
   },
   {
    "duration": 311,
    "start_time": "2022-04-06T14:23:16.317Z"
   },
   {
    "duration": 216,
    "start_time": "2022-04-06T14:23:16.630Z"
   },
   {
    "duration": 202,
    "start_time": "2022-04-06T14:23:16.848Z"
   },
   {
    "duration": 340,
    "start_time": "2022-04-06T14:23:17.052Z"
   },
   {
    "duration": 186,
    "start_time": "2022-04-06T14:23:17.401Z"
   },
   {
    "duration": 324,
    "start_time": "2022-04-06T14:23:17.588Z"
   },
   {
    "duration": 282,
    "start_time": "2022-04-06T14:23:29.139Z"
   },
   {
    "duration": 319,
    "start_time": "2022-04-06T14:27:01.758Z"
   },
   {
    "duration": 326,
    "start_time": "2022-04-06T14:27:17.307Z"
   },
   {
    "duration": 270,
    "start_time": "2022-04-06T14:28:26.121Z"
   },
   {
    "duration": 397,
    "start_time": "2022-04-06T14:30:13.886Z"
   },
   {
    "duration": 290,
    "start_time": "2022-04-06T14:30:56.006Z"
   },
   {
    "duration": 292,
    "start_time": "2022-04-06T14:31:15.335Z"
   },
   {
    "duration": 482,
    "start_time": "2022-04-06T14:35:24.599Z"
   },
   {
    "duration": 3,
    "start_time": "2022-04-06T14:36:29.161Z"
   },
   {
    "duration": 865,
    "start_time": "2022-04-06T14:49:39.228Z"
   },
   {
    "duration": 750,
    "start_time": "2022-04-06T14:55:09.478Z"
   },
   {
    "duration": 8,
    "start_time": "2022-04-06T14:55:21.304Z"
   },
   {
    "duration": 836,
    "start_time": "2022-04-06T14:59:53.255Z"
   },
   {
    "duration": 222,
    "start_time": "2022-04-06T15:00:04.152Z"
   },
   {
    "duration": 210,
    "start_time": "2022-04-06T15:00:25.758Z"
   },
   {
    "duration": 211,
    "start_time": "2022-04-06T15:01:50.713Z"
   },
   {
    "duration": 985,
    "start_time": "2022-04-25T17:02:44.152Z"
   },
   {
    "duration": 29,
    "start_time": "2022-04-25T17:02:45.142Z"
   },
   {
    "duration": 15,
    "start_time": "2022-04-25T17:02:45.173Z"
   },
   {
    "duration": 49,
    "start_time": "2022-04-25T17:02:45.191Z"
   },
   {
    "duration": 4,
    "start_time": "2022-04-25T17:02:45.245Z"
   },
   {
    "duration": 327,
    "start_time": "2022-04-25T17:02:45.252Z"
   },
   {
    "duration": 294,
    "start_time": "2022-04-25T17:02:45.580Z"
   },
   {
    "duration": 201,
    "start_time": "2022-04-25T17:02:45.876Z"
   },
   {
    "duration": 352,
    "start_time": "2022-04-25T17:02:46.079Z"
   },
   {
    "duration": 248,
    "start_time": "2022-04-25T17:02:46.433Z"
   },
   {
    "duration": 332,
    "start_time": "2022-04-25T17:02:46.683Z"
   },
   {
    "duration": 483,
    "start_time": "2022-04-25T17:02:47.018Z"
   },
   {
    "duration": 106,
    "start_time": "2022-04-25T19:42:03.146Z"
   },
   {
    "duration": 17,
    "start_time": "2022-04-25T19:42:03.254Z"
   },
   {
    "duration": 9,
    "start_time": "2022-04-25T19:42:03.273Z"
   },
   {
    "duration": 10,
    "start_time": "2022-04-25T19:42:03.284Z"
   },
   {
    "duration": 341,
    "start_time": "2022-04-25T19:42:03.295Z"
   },
   {
    "duration": 212,
    "start_time": "2022-04-25T19:42:03.638Z"
   },
   {
    "duration": 225,
    "start_time": "2022-04-25T19:42:03.855Z"
   },
   {
    "duration": 327,
    "start_time": "2022-04-25T19:42:04.082Z"
   },
   {
    "duration": 189,
    "start_time": "2022-04-25T19:42:04.410Z"
   },
   {
    "duration": 308,
    "start_time": "2022-04-25T19:42:04.601Z"
   },
   {
    "duration": 351,
    "start_time": "2022-04-25T19:42:04.911Z"
   },
   {
    "duration": 1780,
    "start_time": "2022-04-26T12:59:07.092Z"
   },
   {
    "duration": 56,
    "start_time": "2022-04-26T12:59:08.876Z"
   },
   {
    "duration": 19,
    "start_time": "2022-04-26T12:59:08.935Z"
   },
   {
    "duration": 48,
    "start_time": "2022-04-26T12:59:08.956Z"
   },
   {
    "duration": 669,
    "start_time": "2022-04-26T12:59:09.008Z"
   },
   {
    "duration": 507,
    "start_time": "2022-04-26T12:59:09.679Z"
   },
   {
    "duration": 453,
    "start_time": "2022-04-26T12:59:10.188Z"
   },
   {
    "duration": 466,
    "start_time": "2022-04-26T12:59:10.644Z"
   },
   {
    "duration": 399,
    "start_time": "2022-04-26T12:59:11.113Z"
   },
   {
    "duration": 441,
    "start_time": "2022-04-26T12:59:11.515Z"
   },
   {
    "duration": 581,
    "start_time": "2022-04-26T12:59:11.961Z"
   },
   {
    "duration": 2456,
    "start_time": "2022-04-26T14:35:04.743Z"
   },
   {
    "duration": 197,
    "start_time": "2022-04-26T14:35:15.393Z"
   },
   {
    "duration": 210,
    "start_time": "2022-04-26T14:35:31.098Z"
   },
   {
    "duration": 10,
    "start_time": "2022-04-26T14:36:33.773Z"
   },
   {
    "duration": 190,
    "start_time": "2022-04-26T14:39:28.178Z"
   },
   {
    "duration": 23,
    "start_time": "2022-04-26T14:39:28.371Z"
   },
   {
    "duration": 60,
    "start_time": "2022-04-26T14:39:28.397Z"
   },
   {
    "duration": 24,
    "start_time": "2022-04-26T14:39:28.459Z"
   },
   {
    "duration": 516,
    "start_time": "2022-04-26T14:39:28.487Z"
   },
   {
    "duration": 345,
    "start_time": "2022-04-26T14:39:29.005Z"
   },
   {
    "duration": 317,
    "start_time": "2022-04-26T14:39:29.355Z"
   },
   {
    "duration": 449,
    "start_time": "2022-04-26T14:39:29.674Z"
   },
   {
    "duration": 411,
    "start_time": "2022-04-26T14:39:30.131Z"
   },
   {
    "duration": 425,
    "start_time": "2022-04-26T14:39:30.544Z"
   },
   {
    "duration": 276,
    "start_time": "2022-04-26T14:39:30.971Z"
   },
   {
    "duration": 13,
    "start_time": "2022-04-26T14:39:31.258Z"
   },
   {
    "duration": 479,
    "start_time": "2022-04-26T14:40:24.872Z"
   },
   {
    "duration": 200,
    "start_time": "2022-04-26T14:40:58.017Z"
   },
   {
    "duration": 196,
    "start_time": "2022-04-26T14:41:04.203Z"
   },
   {
    "duration": 182,
    "start_time": "2022-04-26T14:41:31.761Z"
   },
   {
    "duration": 6,
    "start_time": "2022-04-26T14:52:04.250Z"
   },
   {
    "duration": 10,
    "start_time": "2022-04-26T15:03:19.961Z"
   },
   {
    "duration": 2337,
    "start_time": "2022-04-26T15:03:54.799Z"
   },
   {
    "duration": 199,
    "start_time": "2022-04-26T15:04:02.193Z"
   },
   {
    "duration": 10,
    "start_time": "2022-04-26T15:05:25.805Z"
   },
   {
    "duration": 228,
    "start_time": "2022-04-26T15:07:07.594Z"
   },
   {
    "duration": 206,
    "start_time": "2022-04-26T15:07:48.969Z"
   },
   {
    "duration": 14,
    "start_time": "2022-04-26T15:19:39.952Z"
   },
   {
    "duration": 5,
    "start_time": "2022-04-26T15:20:42.482Z"
   },
   {
    "duration": 189,
    "start_time": "2022-04-26T15:45:11.652Z"
   },
   {
    "duration": 27,
    "start_time": "2022-04-26T15:45:11.847Z"
   },
   {
    "duration": 18,
    "start_time": "2022-04-26T15:45:11.876Z"
   },
   {
    "duration": 48,
    "start_time": "2022-04-26T15:45:11.896Z"
   },
   {
    "duration": 539,
    "start_time": "2022-04-26T15:45:11.950Z"
   },
   {
    "duration": 357,
    "start_time": "2022-04-26T15:45:12.491Z"
   },
   {
    "duration": 336,
    "start_time": "2022-04-26T15:45:12.850Z"
   },
   {
    "duration": 508,
    "start_time": "2022-04-26T15:45:13.188Z"
   },
   {
    "duration": 316,
    "start_time": "2022-04-26T15:45:13.700Z"
   },
   {
    "duration": 440,
    "start_time": "2022-04-26T15:45:14.019Z"
   },
   {
    "duration": 189,
    "start_time": "2022-04-26T15:45:14.464Z"
   },
   {
    "duration": 7,
    "start_time": "2022-04-26T15:45:14.662Z"
   },
   {
    "duration": 223,
    "start_time": "2022-04-26T15:45:14.672Z"
   },
   {
    "duration": 7,
    "start_time": "2022-04-26T15:45:14.898Z"
   },
   {
    "duration": 27,
    "start_time": "2022-04-26T15:45:14.908Z"
   },
   {
    "duration": 24,
    "start_time": "2022-04-26T15:49:34.390Z"
   },
   {
    "duration": 22,
    "start_time": "2022-04-26T15:50:28.997Z"
   },
   {
    "duration": 45,
    "start_time": "2022-04-26T15:50:52.422Z"
   },
   {
    "duration": 185,
    "start_time": "2022-04-26T15:56:08.950Z"
   },
   {
    "duration": 7,
    "start_time": "2022-04-26T15:56:48.647Z"
   },
   {
    "duration": 452,
    "start_time": "2022-04-26T16:00:09.913Z"
   },
   {
    "duration": 324,
    "start_time": "2022-04-26T16:00:37.440Z"
   },
   {
    "duration": 307,
    "start_time": "2022-04-26T16:00:41.569Z"
   },
   {
    "duration": 395,
    "start_time": "2022-04-26T16:01:35.273Z"
   },
   {
    "duration": 192,
    "start_time": "2022-04-26T16:02:55.608Z"
   },
   {
    "duration": 299,
    "start_time": "2022-04-26T16:03:17.319Z"
   },
   {
    "duration": 388,
    "start_time": "2022-04-26T16:03:27.774Z"
   },
   {
    "duration": 388,
    "start_time": "2022-04-26T16:04:41.203Z"
   },
   {
    "duration": 320,
    "start_time": "2022-04-26T16:11:07.111Z"
   },
   {
    "duration": 90,
    "start_time": "2022-04-26T16:16:08.811Z"
   },
   {
    "duration": 13,
    "start_time": "2022-04-26T16:17:12.109Z"
   },
   {
    "duration": 824,
    "start_time": "2022-04-26T16:18:44.153Z"
   },
   {
    "duration": 22,
    "start_time": "2022-04-26T16:18:44.980Z"
   },
   {
    "duration": 23,
    "start_time": "2022-04-26T16:18:45.029Z"
   },
   {
    "duration": 36,
    "start_time": "2022-04-26T16:18:45.054Z"
   },
   {
    "duration": 541,
    "start_time": "2022-04-26T16:18:45.094Z"
   },
   {
    "duration": 478,
    "start_time": "2022-04-26T16:18:45.643Z"
   },
   {
    "duration": 332,
    "start_time": "2022-04-26T16:18:46.126Z"
   },
   {
    "duration": 398,
    "start_time": "2022-04-26T16:18:46.461Z"
   },
   {
    "duration": 314,
    "start_time": "2022-04-26T16:18:46.865Z"
   },
   {
    "duration": 493,
    "start_time": "2022-04-26T16:18:47.181Z"
   },
   {
    "duration": 207,
    "start_time": "2022-04-26T16:18:47.677Z"
   },
   {
    "duration": 6,
    "start_time": "2022-04-26T16:18:47.886Z"
   },
   {
    "duration": 254,
    "start_time": "2022-04-26T16:18:47.895Z"
   },
   {
    "duration": 9,
    "start_time": "2022-04-26T16:18:48.153Z"
   },
   {
    "duration": 228,
    "start_time": "2022-04-26T16:18:48.168Z"
   },
   {
    "duration": 0,
    "start_time": "2022-04-26T16:18:48.399Z"
   },
   {
    "duration": 0,
    "start_time": "2022-04-26T16:18:48.400Z"
   },
   {
    "duration": 203,
    "start_time": "2022-04-26T16:19:05.213Z"
   },
   {
    "duration": 11,
    "start_time": "2022-04-26T16:19:25.555Z"
   },
   {
    "duration": 184,
    "start_time": "2022-04-26T16:19:27.694Z"
   },
   {
    "duration": 1778,
    "start_time": "2022-04-26T16:20:03.220Z"
   },
   {
    "duration": 59,
    "start_time": "2022-04-26T16:20:05.001Z"
   },
   {
    "duration": 22,
    "start_time": "2022-04-26T16:20:05.065Z"
   },
   {
    "duration": 31,
    "start_time": "2022-04-26T16:20:05.090Z"
   },
   {
    "duration": 545,
    "start_time": "2022-04-26T16:20:05.133Z"
   },
   {
    "duration": 337,
    "start_time": "2022-04-26T16:20:05.681Z"
   },
   {
    "duration": 416,
    "start_time": "2022-04-26T16:20:06.021Z"
   },
   {
    "duration": 415,
    "start_time": "2022-04-26T16:20:06.439Z"
   },
   {
    "duration": 308,
    "start_time": "2022-04-26T16:20:06.859Z"
   },
   {
    "duration": 412,
    "start_time": "2022-04-26T16:20:07.170Z"
   },
   {
    "duration": 199,
    "start_time": "2022-04-26T16:20:07.584Z"
   },
   {
    "duration": 6,
    "start_time": "2022-04-26T16:20:07.786Z"
   },
   {
    "duration": 226,
    "start_time": "2022-04-26T16:20:07.794Z"
   },
   {
    "duration": 6,
    "start_time": "2022-04-26T16:20:08.024Z"
   },
   {
    "duration": 192,
    "start_time": "2022-04-26T16:20:08.037Z"
   },
   {
    "duration": 1,
    "start_time": "2022-04-26T16:20:08.232Z"
   },
   {
    "duration": 0,
    "start_time": "2022-04-26T16:20:08.234Z"
   },
   {
    "duration": 579,
    "start_time": "2022-04-26T16:24:45.152Z"
   },
   {
    "duration": 570,
    "start_time": "2022-04-26T16:24:54.468Z"
   },
   {
    "duration": 186,
    "start_time": "2022-04-26T16:25:24.064Z"
   },
   {
    "duration": 193,
    "start_time": "2022-04-26T16:27:55.545Z"
   },
   {
    "duration": 206,
    "start_time": "2022-04-26T16:29:05.032Z"
   },
   {
    "duration": 194,
    "start_time": "2022-04-26T16:29:34.967Z"
   },
   {
    "duration": 200,
    "start_time": "2022-04-26T16:29:55.261Z"
   },
   {
    "duration": 871,
    "start_time": "2022-04-26T16:30:28.810Z"
   },
   {
    "duration": 18,
    "start_time": "2022-04-26T16:30:49.682Z"
   },
   {
    "duration": 820,
    "start_time": "2022-04-26T16:31:20.593Z"
   },
   {
    "duration": 699,
    "start_time": "2022-04-26T16:31:37.976Z"
   },
   {
    "duration": 15,
    "start_time": "2022-04-26T17:09:44.692Z"
   },
   {
    "duration": 2131,
    "start_time": "2022-04-26T17:19:45.567Z"
   },
   {
    "duration": 2042,
    "start_time": "2022-04-26T17:20:09.665Z"
   },
   {
    "duration": 14,
    "start_time": "2022-04-26T17:20:34.188Z"
   },
   {
    "duration": 2401,
    "start_time": "2022-04-26T17:26:56.417Z"
   },
   {
    "duration": 64,
    "start_time": "2022-04-26T17:27:18.402Z"
   },
   {
    "duration": 2243,
    "start_time": "2022-04-26T17:30:22.946Z"
   },
   {
    "duration": 21,
    "start_time": "2022-04-26T17:33:20.777Z"
   },
   {
    "duration": 349,
    "start_time": "2022-04-26T18:04:38.270Z"
   },
   {
    "duration": 291,
    "start_time": "2022-04-26T18:23:27.131Z"
   },
   {
    "duration": 224,
    "start_time": "2022-04-26T18:28:08.991Z"
   },
   {
    "duration": 220,
    "start_time": "2022-04-26T18:28:14.641Z"
   },
   {
    "duration": 340,
    "start_time": "2022-04-26T18:28:21.224Z"
   },
   {
    "duration": 241,
    "start_time": "2022-04-26T18:29:31.666Z"
   },
   {
    "duration": 247,
    "start_time": "2022-04-26T18:34:53.836Z"
   },
   {
    "duration": 85,
    "start_time": "2022-04-26T19:51:03.791Z"
   },
   {
    "duration": 195,
    "start_time": "2022-04-26T19:51:48.503Z"
   },
   {
    "duration": 44,
    "start_time": "2022-04-26T19:51:48.701Z"
   },
   {
    "duration": 45,
    "start_time": "2022-04-26T19:51:48.748Z"
   },
   {
    "duration": 18,
    "start_time": "2022-04-26T19:51:48.796Z"
   },
   {
    "duration": 561,
    "start_time": "2022-04-26T19:51:48.817Z"
   },
   {
    "duration": 372,
    "start_time": "2022-04-26T19:51:49.381Z"
   },
   {
    "duration": 336,
    "start_time": "2022-04-26T19:51:49.756Z"
   },
   {
    "duration": 451,
    "start_time": "2022-04-26T19:51:50.095Z"
   },
   {
    "duration": 326,
    "start_time": "2022-04-26T19:51:50.551Z"
   },
   {
    "duration": 487,
    "start_time": "2022-04-26T19:51:50.881Z"
   },
   {
    "duration": 272,
    "start_time": "2022-04-26T19:51:51.376Z"
   },
   {
    "duration": 9,
    "start_time": "2022-04-26T19:51:51.650Z"
   },
   {
    "duration": 295,
    "start_time": "2022-04-26T19:51:51.665Z"
   },
   {
    "duration": 7,
    "start_time": "2022-04-26T19:51:51.965Z"
   },
   {
    "duration": 818,
    "start_time": "2022-04-26T19:51:51.977Z"
   },
   {
    "duration": 37,
    "start_time": "2022-04-26T19:51:52.798Z"
   },
   {
    "duration": 59,
    "start_time": "2022-04-26T19:51:52.844Z"
   },
   {
    "duration": 57,
    "start_time": "2022-04-26T19:51:52.906Z"
   },
   {
    "duration": 1508,
    "start_time": "2022-04-27T17:41:39.758Z"
   },
   {
    "duration": 24,
    "start_time": "2022-04-27T17:41:41.270Z"
   },
   {
    "duration": 28,
    "start_time": "2022-04-27T17:41:41.296Z"
   },
   {
    "duration": 46,
    "start_time": "2022-04-27T17:41:41.326Z"
   },
   {
    "duration": 640,
    "start_time": "2022-04-27T17:41:41.376Z"
   },
   {
    "duration": 0,
    "start_time": "2022-04-27T17:41:42.019Z"
   },
   {
    "duration": 0,
    "start_time": "2022-04-27T17:41:42.020Z"
   },
   {
    "duration": 0,
    "start_time": "2022-04-27T17:41:42.022Z"
   },
   {
    "duration": 1,
    "start_time": "2022-04-27T17:41:42.023Z"
   },
   {
    "duration": 0,
    "start_time": "2022-04-27T17:41:42.025Z"
   },
   {
    "duration": 0,
    "start_time": "2022-04-27T17:41:42.027Z"
   },
   {
    "duration": 0,
    "start_time": "2022-04-27T17:41:42.028Z"
   },
   {
    "duration": 0,
    "start_time": "2022-04-27T17:41:42.052Z"
   },
   {
    "duration": 0,
    "start_time": "2022-04-27T17:41:42.056Z"
   },
   {
    "duration": 0,
    "start_time": "2022-04-27T17:41:42.058Z"
   },
   {
    "duration": 0,
    "start_time": "2022-04-27T17:41:42.060Z"
   },
   {
    "duration": 0,
    "start_time": "2022-04-27T17:41:42.061Z"
   },
   {
    "duration": 0,
    "start_time": "2022-04-27T17:41:42.063Z"
   },
   {
    "duration": 418,
    "start_time": "2022-04-27T17:43:40.795Z"
   },
   {
    "duration": 473,
    "start_time": "2022-04-27T17:43:56.216Z"
   },
   {
    "duration": 1493,
    "start_time": "2022-04-27T17:44:57.030Z"
   },
   {
    "duration": 43,
    "start_time": "2022-04-27T17:44:58.525Z"
   },
   {
    "duration": 15,
    "start_time": "2022-04-27T17:44:58.570Z"
   },
   {
    "duration": 15,
    "start_time": "2022-04-27T17:44:58.588Z"
   },
   {
    "duration": 492,
    "start_time": "2022-04-27T17:44:58.605Z"
   },
   {
    "duration": 423,
    "start_time": "2022-04-27T17:44:59.099Z"
   },
   {
    "duration": 303,
    "start_time": "2022-04-27T17:44:59.524Z"
   },
   {
    "duration": 398,
    "start_time": "2022-04-27T17:44:59.829Z"
   },
   {
    "duration": 292,
    "start_time": "2022-04-27T17:45:00.229Z"
   },
   {
    "duration": 421,
    "start_time": "2022-04-27T17:45:00.523Z"
   },
   {
    "duration": 148,
    "start_time": "2022-04-27T17:45:00.946Z"
   },
   {
    "duration": 1,
    "start_time": "2022-04-27T17:45:01.096Z"
   },
   {
    "duration": 0,
    "start_time": "2022-04-27T17:45:01.098Z"
   },
   {
    "duration": 0,
    "start_time": "2022-04-27T17:45:01.100Z"
   },
   {
    "duration": 0,
    "start_time": "2022-04-27T17:45:01.102Z"
   },
   {
    "duration": 0,
    "start_time": "2022-04-27T17:45:01.103Z"
   },
   {
    "duration": 0,
    "start_time": "2022-04-27T17:45:01.104Z"
   },
   {
    "duration": 0,
    "start_time": "2022-04-27T17:45:01.106Z"
   },
   {
    "duration": 11,
    "start_time": "2022-04-27T17:46:27.648Z"
   },
   {
    "duration": 232,
    "start_time": "2022-04-27T17:46:30.752Z"
   },
   {
    "duration": 7,
    "start_time": "2022-04-27T17:46:31.942Z"
   },
   {
    "duration": 646,
    "start_time": "2022-04-27T17:46:32.366Z"
   },
   {
    "duration": 14,
    "start_time": "2022-04-27T17:46:33.015Z"
   },
   {
    "duration": 50,
    "start_time": "2022-04-27T17:46:33.369Z"
   },
   {
    "duration": 20,
    "start_time": "2022-04-27T17:46:33.808Z"
   },
   {
    "duration": 89,
    "start_time": "2022-04-27T17:55:23.619Z"
   },
   {
    "duration": 90,
    "start_time": "2022-04-27T18:00:04.281Z"
   },
   {
    "duration": 2487,
    "start_time": "2022-04-27T18:44:23.814Z"
   },
   {
    "duration": 202,
    "start_time": "2022-04-27T18:44:29.273Z"
   },
   {
    "duration": 4,
    "start_time": "2022-04-27T18:45:03.966Z"
   },
   {
    "duration": 180,
    "start_time": "2022-04-27T18:45:03.973Z"
   },
   {
    "duration": 26,
    "start_time": "2022-04-27T18:45:04.156Z"
   },
   {
    "duration": 23,
    "start_time": "2022-04-27T18:45:04.185Z"
   },
   {
    "duration": 57,
    "start_time": "2022-04-27T18:45:04.211Z"
   },
   {
    "duration": 521,
    "start_time": "2022-04-27T18:45:04.270Z"
   },
   {
    "duration": 453,
    "start_time": "2022-04-27T18:45:04.793Z"
   },
   {
    "duration": 303,
    "start_time": "2022-04-27T18:45:05.252Z"
   },
   {
    "duration": 561,
    "start_time": "2022-04-27T18:45:05.558Z"
   },
   {
    "duration": 311,
    "start_time": "2022-04-27T18:45:06.125Z"
   },
   {
    "duration": 420,
    "start_time": "2022-04-27T18:45:06.439Z"
   },
   {
    "duration": 161,
    "start_time": "2022-04-27T18:45:06.862Z"
   },
   {
    "duration": 0,
    "start_time": "2022-04-27T18:45:07.025Z"
   },
   {
    "duration": 0,
    "start_time": "2022-04-27T18:45:07.027Z"
   },
   {
    "duration": 0,
    "start_time": "2022-04-27T18:45:07.029Z"
   },
   {
    "duration": 0,
    "start_time": "2022-04-27T18:45:07.031Z"
   },
   {
    "duration": 0,
    "start_time": "2022-04-27T18:45:07.033Z"
   },
   {
    "duration": 1,
    "start_time": "2022-04-27T18:45:07.034Z"
   },
   {
    "duration": 0,
    "start_time": "2022-04-27T18:45:07.051Z"
   },
   {
    "duration": 16,
    "start_time": "2022-04-27T18:46:36.603Z"
   },
   {
    "duration": 23,
    "start_time": "2022-04-27T18:46:44.544Z"
   },
   {
    "duration": 21,
    "start_time": "2022-04-27T18:46:51.375Z"
   },
   {
    "duration": 12,
    "start_time": "2022-04-27T19:00:21.594Z"
   },
   {
    "duration": 16,
    "start_time": "2022-04-27T19:00:37.547Z"
   },
   {
    "duration": 16,
    "start_time": "2022-04-27T19:00:58.633Z"
   },
   {
    "duration": 15,
    "start_time": "2022-04-27T19:04:10.728Z"
   },
   {
    "duration": 160,
    "start_time": "2022-04-27T19:04:39.106Z"
   },
   {
    "duration": 4,
    "start_time": "2022-04-27T19:09:28.488Z"
   },
   {
    "duration": 162,
    "start_time": "2022-04-27T19:09:28.495Z"
   },
   {
    "duration": 23,
    "start_time": "2022-04-27T19:09:28.659Z"
   },
   {
    "duration": 13,
    "start_time": "2022-04-27T19:09:28.685Z"
   },
   {
    "duration": 55,
    "start_time": "2022-04-27T19:09:28.702Z"
   },
   {
    "duration": 466,
    "start_time": "2022-04-27T19:09:28.759Z"
   },
   {
    "duration": 306,
    "start_time": "2022-04-27T19:09:29.227Z"
   },
   {
    "duration": 301,
    "start_time": "2022-04-27T19:09:29.535Z"
   },
   {
    "duration": 420,
    "start_time": "2022-04-27T19:09:29.839Z"
   },
   {
    "duration": 381,
    "start_time": "2022-04-27T19:09:30.261Z"
   },
   {
    "duration": 420,
    "start_time": "2022-04-27T19:09:30.653Z"
   },
   {
    "duration": 12,
    "start_time": "2022-04-27T19:09:31.075Z"
   },
   {
    "duration": 0,
    "start_time": "2022-04-27T19:09:31.089Z"
   },
   {
    "duration": 0,
    "start_time": "2022-04-27T19:09:31.091Z"
   },
   {
    "duration": 0,
    "start_time": "2022-04-27T19:09:31.092Z"
   },
   {
    "duration": 0,
    "start_time": "2022-04-27T19:09:31.094Z"
   },
   {
    "duration": 0,
    "start_time": "2022-04-27T19:09:31.095Z"
   },
   {
    "duration": 0,
    "start_time": "2022-04-27T19:09:31.097Z"
   },
   {
    "duration": 0,
    "start_time": "2022-04-27T19:09:31.099Z"
   },
   {
    "duration": 1323,
    "start_time": "2022-04-28T05:53:14.212Z"
   },
   {
    "duration": 124,
    "start_time": "2022-04-28T05:53:15.537Z"
   },
   {
    "duration": 16,
    "start_time": "2022-04-28T05:53:15.663Z"
   },
   {
    "duration": 12,
    "start_time": "2022-04-28T05:53:15.708Z"
   },
   {
    "duration": 10,
    "start_time": "2022-04-28T05:53:15.723Z"
   },
   {
    "duration": 326,
    "start_time": "2022-04-28T05:53:15.735Z"
   },
   {
    "duration": 298,
    "start_time": "2022-04-28T05:53:16.063Z"
   },
   {
    "duration": 204,
    "start_time": "2022-04-28T05:53:16.363Z"
   },
   {
    "duration": 393,
    "start_time": "2022-04-28T05:53:16.569Z"
   },
   {
    "duration": 194,
    "start_time": "2022-04-28T05:53:16.964Z"
   },
   {
    "duration": 302,
    "start_time": "2022-04-28T05:53:17.160Z"
   },
   {
    "duration": 104,
    "start_time": "2022-04-28T05:53:17.463Z"
   },
   {
    "duration": 0,
    "start_time": "2022-04-28T05:53:17.569Z"
   },
   {
    "duration": 0,
    "start_time": "2022-04-28T05:53:17.570Z"
   },
   {
    "duration": 0,
    "start_time": "2022-04-28T05:53:17.571Z"
   },
   {
    "duration": 0,
    "start_time": "2022-04-28T05:53:17.572Z"
   },
   {
    "duration": 0,
    "start_time": "2022-04-28T05:53:17.573Z"
   },
   {
    "duration": 0,
    "start_time": "2022-04-28T05:53:17.574Z"
   },
   {
    "duration": 0,
    "start_time": "2022-04-28T05:53:17.575Z"
   },
   {
    "duration": 84,
    "start_time": "2022-04-28T05:53:32.619Z"
   },
   {
    "duration": 72,
    "start_time": "2022-04-28T05:53:49.115Z"
   },
   {
    "duration": 18,
    "start_time": "2022-04-28T05:54:36.155Z"
   },
   {
    "duration": 25,
    "start_time": "2022-04-28T05:55:40.944Z"
   },
   {
    "duration": 26,
    "start_time": "2022-04-28T05:56:13.516Z"
   },
   {
    "duration": 26,
    "start_time": "2022-04-28T05:56:38.713Z"
   },
   {
    "duration": 13,
    "start_time": "2022-04-28T05:57:35.321Z"
   },
   {
    "duration": 1396,
    "start_time": "2022-04-28T08:27:18.930Z"
   },
   {
    "duration": 120,
    "start_time": "2022-04-28T08:27:20.328Z"
   },
   {
    "duration": 37,
    "start_time": "2022-04-28T08:27:20.450Z"
   },
   {
    "duration": 19,
    "start_time": "2022-04-28T08:27:20.489Z"
   },
   {
    "duration": 312,
    "start_time": "2022-04-28T08:27:20.511Z"
   },
   {
    "duration": 283,
    "start_time": "2022-04-28T08:27:20.824Z"
   },
   {
    "duration": 197,
    "start_time": "2022-04-28T08:27:21.108Z"
   },
   {
    "duration": 336,
    "start_time": "2022-04-28T08:27:21.307Z"
   },
   {
    "duration": 202,
    "start_time": "2022-04-28T08:27:21.644Z"
   },
   {
    "duration": 333,
    "start_time": "2022-04-28T08:27:21.848Z"
   },
   {
    "duration": 106,
    "start_time": "2022-04-28T08:27:22.183Z"
   },
   {
    "duration": 0,
    "start_time": "2022-04-28T08:27:22.290Z"
   },
   {
    "duration": 0,
    "start_time": "2022-04-28T08:27:22.292Z"
   },
   {
    "duration": 0,
    "start_time": "2022-04-28T08:27:22.293Z"
   },
   {
    "duration": 0,
    "start_time": "2022-04-28T08:27:22.294Z"
   },
   {
    "duration": 0,
    "start_time": "2022-04-28T08:27:22.296Z"
   },
   {
    "duration": 0,
    "start_time": "2022-04-28T08:27:22.297Z"
   },
   {
    "duration": 0,
    "start_time": "2022-04-28T08:27:22.298Z"
   },
   {
    "duration": 9,
    "start_time": "2022-04-28T08:39:42.179Z"
   },
   {
    "duration": 2258,
    "start_time": "2022-04-28T08:40:50.460Z"
   },
   {
    "duration": 8,
    "start_time": "2022-04-28T08:41:06.390Z"
   },
   {
    "duration": 10,
    "start_time": "2022-04-28T08:41:12.199Z"
   },
   {
    "duration": 19,
    "start_time": "2022-04-28T08:44:13.011Z"
   },
   {
    "duration": 17,
    "start_time": "2022-04-28T08:44:17.328Z"
   },
   {
    "duration": 3,
    "start_time": "2022-04-28T08:45:03.636Z"
   },
   {
    "duration": 141,
    "start_time": "2022-04-28T08:45:03.650Z"
   },
   {
    "duration": 18,
    "start_time": "2022-04-28T08:45:03.793Z"
   },
   {
    "duration": 11,
    "start_time": "2022-04-28T08:45:03.812Z"
   },
   {
    "duration": 31,
    "start_time": "2022-04-28T08:45:03.826Z"
   },
   {
    "duration": 25,
    "start_time": "2022-04-28T08:45:03.859Z"
   },
   {
    "duration": 320,
    "start_time": "2022-04-28T08:45:03.886Z"
   },
   {
    "duration": 219,
    "start_time": "2022-04-28T08:45:04.208Z"
   },
   {
    "duration": 211,
    "start_time": "2022-04-28T08:45:04.429Z"
   },
   {
    "duration": 350,
    "start_time": "2022-04-28T08:45:04.642Z"
   },
   {
    "duration": 292,
    "start_time": "2022-04-28T08:45:04.995Z"
   },
   {
    "duration": 332,
    "start_time": "2022-04-28T08:45:05.289Z"
   },
   {
    "duration": 9,
    "start_time": "2022-04-28T08:45:05.623Z"
   },
   {
    "duration": 0,
    "start_time": "2022-04-28T08:45:05.634Z"
   },
   {
    "duration": 0,
    "start_time": "2022-04-28T08:45:05.635Z"
   },
   {
    "duration": 0,
    "start_time": "2022-04-28T08:45:05.636Z"
   },
   {
    "duration": 0,
    "start_time": "2022-04-28T08:45:05.637Z"
   },
   {
    "duration": 0,
    "start_time": "2022-04-28T08:45:05.639Z"
   },
   {
    "duration": 0,
    "start_time": "2022-04-28T08:45:05.640Z"
   },
   {
    "duration": 0,
    "start_time": "2022-04-28T08:45:05.641Z"
   },
   {
    "duration": 13,
    "start_time": "2022-04-28T08:47:04.549Z"
   },
   {
    "duration": 10,
    "start_time": "2022-04-28T08:47:11.747Z"
   },
   {
    "duration": 12,
    "start_time": "2022-04-28T08:49:11.318Z"
   },
   {
    "duration": 14,
    "start_time": "2022-04-28T08:49:21.096Z"
   },
   {
    "duration": 15,
    "start_time": "2022-04-28T08:49:34.747Z"
   },
   {
    "duration": 15,
    "start_time": "2022-04-28T08:49:58.162Z"
   },
   {
    "duration": 11,
    "start_time": "2022-04-28T08:50:08.807Z"
   },
   {
    "duration": 9,
    "start_time": "2022-04-28T09:07:29.827Z"
   },
   {
    "duration": 14,
    "start_time": "2022-04-28T09:07:37.658Z"
   },
   {
    "duration": 15,
    "start_time": "2022-04-28T09:07:59.738Z"
   },
   {
    "duration": 15,
    "start_time": "2022-04-28T09:08:08.179Z"
   },
   {
    "duration": 18,
    "start_time": "2022-04-28T09:08:13.986Z"
   },
   {
    "duration": 17,
    "start_time": "2022-04-28T09:09:53.880Z"
   },
   {
    "duration": 4,
    "start_time": "2022-04-28T09:11:24.898Z"
   },
   {
    "duration": 111,
    "start_time": "2022-04-28T09:11:24.913Z"
   },
   {
    "duration": 17,
    "start_time": "2022-04-28T09:11:25.026Z"
   },
   {
    "duration": 41,
    "start_time": "2022-04-28T09:11:25.044Z"
   },
   {
    "duration": 13,
    "start_time": "2022-04-28T09:11:25.087Z"
   },
   {
    "duration": 288,
    "start_time": "2022-04-28T09:11:25.101Z"
   },
   {
    "duration": 201,
    "start_time": "2022-04-28T09:11:25.390Z"
   },
   {
    "duration": 194,
    "start_time": "2022-04-28T09:11:25.593Z"
   },
   {
    "duration": 304,
    "start_time": "2022-04-28T09:11:25.789Z"
   },
   {
    "duration": 193,
    "start_time": "2022-04-28T09:11:26.095Z"
   },
   {
    "duration": 304,
    "start_time": "2022-04-28T09:11:26.290Z"
   },
   {
    "duration": 11,
    "start_time": "2022-04-28T09:11:26.596Z"
   },
   {
    "duration": 0,
    "start_time": "2022-04-28T09:11:26.609Z"
   },
   {
    "duration": 0,
    "start_time": "2022-04-28T09:11:26.611Z"
   },
   {
    "duration": 0,
    "start_time": "2022-04-28T09:11:26.612Z"
   },
   {
    "duration": 0,
    "start_time": "2022-04-28T09:11:26.614Z"
   },
   {
    "duration": 0,
    "start_time": "2022-04-28T09:11:26.615Z"
   },
   {
    "duration": 0,
    "start_time": "2022-04-28T09:11:26.616Z"
   },
   {
    "duration": 0,
    "start_time": "2022-04-28T09:11:26.618Z"
   },
   {
    "duration": 3,
    "start_time": "2022-04-28T09:57:54.366Z"
   },
   {
    "duration": 115,
    "start_time": "2022-04-28T09:57:54.372Z"
   },
   {
    "duration": 17,
    "start_time": "2022-04-28T09:57:54.489Z"
   },
   {
    "duration": 17,
    "start_time": "2022-04-28T09:57:54.508Z"
   },
   {
    "duration": 47,
    "start_time": "2022-04-28T09:57:54.528Z"
   },
   {
    "duration": 273,
    "start_time": "2022-04-28T09:57:54.577Z"
   },
   {
    "duration": 191,
    "start_time": "2022-04-28T09:57:54.852Z"
   },
   {
    "duration": 184,
    "start_time": "2022-04-28T09:57:55.045Z"
   },
   {
    "duration": 286,
    "start_time": "2022-04-28T09:57:55.231Z"
   },
   {
    "duration": 260,
    "start_time": "2022-04-28T09:57:55.519Z"
   },
   {
    "duration": 300,
    "start_time": "2022-04-28T09:57:55.781Z"
   },
   {
    "duration": 9,
    "start_time": "2022-04-28T09:57:56.083Z"
   },
   {
    "duration": 0,
    "start_time": "2022-04-28T09:57:56.093Z"
   },
   {
    "duration": 0,
    "start_time": "2022-04-28T09:57:56.094Z"
   },
   {
    "duration": 0,
    "start_time": "2022-04-28T09:57:56.095Z"
   },
   {
    "duration": 0,
    "start_time": "2022-04-28T09:57:56.096Z"
   },
   {
    "duration": 0,
    "start_time": "2022-04-28T09:57:56.097Z"
   },
   {
    "duration": 0,
    "start_time": "2022-04-28T09:57:56.099Z"
   },
   {
    "duration": 0,
    "start_time": "2022-04-28T09:57:56.100Z"
   },
   {
    "duration": 3,
    "start_time": "2022-04-28T09:58:04.777Z"
   },
   {
    "duration": 106,
    "start_time": "2022-04-28T09:58:04.781Z"
   },
   {
    "duration": 15,
    "start_time": "2022-04-28T09:58:04.889Z"
   },
   {
    "duration": 25,
    "start_time": "2022-04-28T09:58:04.906Z"
   },
   {
    "duration": 13,
    "start_time": "2022-04-28T09:58:04.932Z"
   },
   {
    "duration": 292,
    "start_time": "2022-04-28T09:58:04.947Z"
   },
   {
    "duration": 190,
    "start_time": "2022-04-28T09:58:05.240Z"
   },
   {
    "duration": 186,
    "start_time": "2022-04-28T09:58:05.432Z"
   },
   {
    "duration": 260,
    "start_time": "2022-04-28T09:58:05.620Z"
   },
   {
    "duration": 187,
    "start_time": "2022-04-28T09:58:05.882Z"
   },
   {
    "duration": 307,
    "start_time": "2022-04-28T09:58:06.071Z"
   },
   {
    "duration": 10,
    "start_time": "2022-04-28T09:58:06.380Z"
   },
   {
    "duration": 1,
    "start_time": "2022-04-28T09:58:06.391Z"
   },
   {
    "duration": 0,
    "start_time": "2022-04-28T09:58:06.393Z"
   },
   {
    "duration": 0,
    "start_time": "2022-04-28T09:58:06.394Z"
   },
   {
    "duration": 0,
    "start_time": "2022-04-28T09:58:06.396Z"
   },
   {
    "duration": 0,
    "start_time": "2022-04-28T09:58:06.396Z"
   },
   {
    "duration": 0,
    "start_time": "2022-04-28T09:58:06.397Z"
   },
   {
    "duration": 0,
    "start_time": "2022-04-28T09:58:06.399Z"
   },
   {
    "duration": 132,
    "start_time": "2022-04-28T10:02:31.157Z"
   },
   {
    "duration": 3,
    "start_time": "2022-04-28T10:56:19.966Z"
   },
   {
    "duration": 114,
    "start_time": "2022-04-28T10:56:19.974Z"
   },
   {
    "duration": 16,
    "start_time": "2022-04-28T10:56:20.090Z"
   },
   {
    "duration": 17,
    "start_time": "2022-04-28T10:56:20.108Z"
   },
   {
    "duration": 13,
    "start_time": "2022-04-28T10:56:20.127Z"
   },
   {
    "duration": 274,
    "start_time": "2022-04-28T10:56:20.175Z"
   },
   {
    "duration": 192,
    "start_time": "2022-04-28T10:56:20.451Z"
   },
   {
    "duration": 187,
    "start_time": "2022-04-28T10:56:20.644Z"
   },
   {
    "duration": 301,
    "start_time": "2022-04-28T10:56:20.833Z"
   },
   {
    "duration": 180,
    "start_time": "2022-04-28T10:56:21.135Z"
   },
   {
    "duration": 377,
    "start_time": "2022-04-28T10:56:21.317Z"
   },
   {
    "duration": 10,
    "start_time": "2022-04-28T10:56:21.695Z"
   },
   {
    "duration": 0,
    "start_time": "2022-04-28T10:56:21.706Z"
   },
   {
    "duration": 0,
    "start_time": "2022-04-28T10:56:21.708Z"
   },
   {
    "duration": 0,
    "start_time": "2022-04-28T10:56:21.709Z"
   },
   {
    "duration": 0,
    "start_time": "2022-04-28T10:56:21.710Z"
   },
   {
    "duration": 0,
    "start_time": "2022-04-28T10:56:21.711Z"
   },
   {
    "duration": 0,
    "start_time": "2022-04-28T10:56:21.712Z"
   },
   {
    "duration": 0,
    "start_time": "2022-04-28T10:56:21.714Z"
   },
   {
    "duration": 10,
    "start_time": "2022-04-28T11:00:39.742Z"
   },
   {
    "duration": 19,
    "start_time": "2022-04-28T11:01:01.372Z"
   },
   {
    "duration": 1943,
    "start_time": "2022-04-28T11:01:26.392Z"
   },
   {
    "duration": 246,
    "start_time": "2022-04-28T11:01:38.762Z"
   },
   {
    "duration": 234,
    "start_time": "2022-04-28T11:03:01.133Z"
   },
   {
    "duration": 133,
    "start_time": "2022-04-28T11:03:30.457Z"
   },
   {
    "duration": 3,
    "start_time": "2022-04-28T11:04:20.519Z"
   },
   {
    "duration": 180,
    "start_time": "2022-04-28T11:04:20.524Z"
   },
   {
    "duration": 15,
    "start_time": "2022-04-28T11:04:20.705Z"
   },
   {
    "duration": 16,
    "start_time": "2022-04-28T11:04:20.721Z"
   },
   {
    "duration": 47,
    "start_time": "2022-04-28T11:04:20.739Z"
   },
   {
    "duration": 301,
    "start_time": "2022-04-28T11:04:20.788Z"
   },
   {
    "duration": 231,
    "start_time": "2022-04-28T11:04:21.091Z"
   },
   {
    "duration": 205,
    "start_time": "2022-04-28T11:04:21.324Z"
   },
   {
    "duration": 285,
    "start_time": "2022-04-28T11:04:21.530Z"
   },
   {
    "duration": 199,
    "start_time": "2022-04-28T11:04:21.817Z"
   },
   {
    "duration": 311,
    "start_time": "2022-04-28T11:04:22.018Z"
   },
   {
    "duration": 293,
    "start_time": "2022-04-28T11:04:22.330Z"
   },
   {
    "duration": 2439,
    "start_time": "2022-04-28T11:04:22.625Z"
   },
   {
    "duration": 0,
    "start_time": "2022-04-28T11:04:25.065Z"
   },
   {
    "duration": 0,
    "start_time": "2022-04-28T11:04:25.066Z"
   },
   {
    "duration": 0,
    "start_time": "2022-04-28T11:04:25.067Z"
   },
   {
    "duration": 0,
    "start_time": "2022-04-28T11:04:25.068Z"
   },
   {
    "duration": 0,
    "start_time": "2022-04-28T11:04:25.069Z"
   },
   {
    "duration": 0,
    "start_time": "2022-04-28T11:04:25.070Z"
   },
   {
    "duration": 5,
    "start_time": "2022-04-28T11:04:56.501Z"
   },
   {
    "duration": 150,
    "start_time": "2022-04-28T11:05:01.147Z"
   },
   {
    "duration": 4,
    "start_time": "2022-04-28T11:05:04.877Z"
   },
   {
    "duration": 16,
    "start_time": "2022-04-28T11:06:34.987Z"
   },
   {
    "duration": 11,
    "start_time": "2022-04-28T11:06:42.026Z"
   },
   {
    "duration": 12,
    "start_time": "2022-04-28T11:06:51.508Z"
   },
   {
    "duration": 12,
    "start_time": "2022-04-28T11:06:54.674Z"
   },
   {
    "duration": 3,
    "start_time": "2022-04-28T11:07:02.818Z"
   },
   {
    "duration": 210,
    "start_time": "2022-04-28T11:07:02.823Z"
   },
   {
    "duration": 16,
    "start_time": "2022-04-28T11:07:03.035Z"
   },
   {
    "duration": 17,
    "start_time": "2022-04-28T11:07:03.075Z"
   },
   {
    "duration": 13,
    "start_time": "2022-04-28T11:07:03.095Z"
   },
   {
    "duration": 318,
    "start_time": "2022-04-28T11:07:03.111Z"
   },
   {
    "duration": 208,
    "start_time": "2022-04-28T11:07:03.430Z"
   },
   {
    "duration": 198,
    "start_time": "2022-04-28T11:07:03.639Z"
   },
   {
    "duration": 296,
    "start_time": "2022-04-28T11:07:03.838Z"
   },
   {
    "duration": 197,
    "start_time": "2022-04-28T11:07:04.136Z"
   },
   {
    "duration": 337,
    "start_time": "2022-04-28T11:07:04.335Z"
   },
   {
    "duration": 288,
    "start_time": "2022-04-28T11:07:04.674Z"
   },
   {
    "duration": 10,
    "start_time": "2022-04-28T11:07:04.963Z"
   },
   {
    "duration": 164,
    "start_time": "2022-04-28T11:07:04.977Z"
   },
   {
    "duration": 4,
    "start_time": "2022-04-28T11:07:05.143Z"
   },
   {
    "duration": 400,
    "start_time": "2022-04-28T11:07:05.149Z"
   },
   {
    "duration": 10,
    "start_time": "2022-04-28T11:07:05.551Z"
   },
   {
    "duration": 65,
    "start_time": "2022-04-28T11:07:05.562Z"
   },
   {
    "duration": 13,
    "start_time": "2022-04-28T11:07:05.629Z"
   },
   {
    "duration": 13,
    "start_time": "2022-04-28T11:07:48.800Z"
   },
   {
    "duration": 9,
    "start_time": "2022-04-28T11:07:53.944Z"
   },
   {
    "duration": 3,
    "start_time": "2022-04-28T11:08:03.751Z"
   },
   {
    "duration": 137,
    "start_time": "2022-04-28T11:08:03.756Z"
   },
   {
    "duration": 16,
    "start_time": "2022-04-28T11:08:03.895Z"
   },
   {
    "duration": 10,
    "start_time": "2022-04-28T11:08:03.913Z"
   },
   {
    "duration": 10,
    "start_time": "2022-04-28T11:08:03.926Z"
   },
   {
    "duration": 38,
    "start_time": "2022-04-28T11:08:03.937Z"
   },
   {
    "duration": 288,
    "start_time": "2022-04-28T11:08:03.981Z"
   },
   {
    "duration": 215,
    "start_time": "2022-04-28T11:08:04.276Z"
   },
   {
    "duration": 206,
    "start_time": "2022-04-28T11:08:04.493Z"
   },
   {
    "duration": 303,
    "start_time": "2022-04-28T11:08:04.701Z"
   },
   {
    "duration": 297,
    "start_time": "2022-04-28T11:08:05.007Z"
   },
   {
    "duration": 305,
    "start_time": "2022-04-28T11:08:05.306Z"
   },
   {
    "duration": 302,
    "start_time": "2022-04-28T11:08:05.613Z"
   },
   {
    "duration": 5,
    "start_time": "2022-04-28T11:08:05.917Z"
   },
   {
    "duration": 173,
    "start_time": "2022-04-28T11:08:05.923Z"
   },
   {
    "duration": 5,
    "start_time": "2022-04-28T11:08:06.097Z"
   },
   {
    "duration": 397,
    "start_time": "2022-04-28T11:08:06.104Z"
   },
   {
    "duration": 11,
    "start_time": "2022-04-28T11:08:06.503Z"
   },
   {
    "duration": 36,
    "start_time": "2022-04-28T11:08:06.515Z"
   },
   {
    "duration": 43,
    "start_time": "2022-04-28T11:08:06.553Z"
   },
   {
    "duration": 8,
    "start_time": "2022-04-28T11:11:54.488Z"
   },
   {
    "duration": 9,
    "start_time": "2022-04-28T11:11:57.101Z"
   },
   {
    "duration": 9,
    "start_time": "2022-04-28T11:12:07.381Z"
   },
   {
    "duration": 10,
    "start_time": "2022-04-28T11:12:08.868Z"
   },
   {
    "duration": 3,
    "start_time": "2022-04-28T11:12:12.464Z"
   },
   {
    "duration": 109,
    "start_time": "2022-04-28T11:12:12.477Z"
   },
   {
    "duration": 16,
    "start_time": "2022-04-28T11:12:12.588Z"
   },
   {
    "duration": 11,
    "start_time": "2022-04-28T11:12:12.606Z"
   },
   {
    "duration": 11,
    "start_time": "2022-04-28T11:12:12.619Z"
   },
   {
    "duration": 12,
    "start_time": "2022-04-28T11:12:12.632Z"
   },
   {
    "duration": 39,
    "start_time": "2022-04-28T11:12:12.646Z"
   },
   {
    "duration": 288,
    "start_time": "2022-04-28T11:12:12.687Z"
   },
   {
    "duration": 204,
    "start_time": "2022-04-28T11:12:12.977Z"
   },
   {
    "duration": 194,
    "start_time": "2022-04-28T11:12:13.182Z"
   },
   {
    "duration": 296,
    "start_time": "2022-04-28T11:12:13.379Z"
   },
   {
    "duration": 181,
    "start_time": "2022-04-28T11:12:13.678Z"
   },
   {
    "duration": 306,
    "start_time": "2022-04-28T11:12:13.861Z"
   },
   {
    "duration": 228,
    "start_time": "2022-04-28T11:12:14.174Z"
   },
   {
    "duration": 4,
    "start_time": "2022-04-28T11:12:14.405Z"
   },
   {
    "duration": 243,
    "start_time": "2022-04-28T11:12:14.411Z"
   },
   {
    "duration": 5,
    "start_time": "2022-04-28T11:12:14.656Z"
   },
   {
    "duration": 377,
    "start_time": "2022-04-28T11:12:14.663Z"
   },
   {
    "duration": 12,
    "start_time": "2022-04-28T11:12:15.042Z"
   },
   {
    "duration": 50,
    "start_time": "2022-04-28T11:12:15.056Z"
   },
   {
    "duration": 14,
    "start_time": "2022-04-28T11:12:15.108Z"
   },
   {
    "duration": 40,
    "start_time": "2022-04-28T11:13:02.151Z"
   },
   {
    "duration": 10,
    "start_time": "2022-04-28T11:13:17.613Z"
   },
   {
    "duration": 15,
    "start_time": "2022-04-28T11:13:20.241Z"
   },
   {
    "duration": 14,
    "start_time": "2022-04-28T11:13:23.170Z"
   },
   {
    "duration": 12,
    "start_time": "2022-04-28T11:13:35.727Z"
   },
   {
    "duration": 10,
    "start_time": "2022-04-28T11:13:52.108Z"
   },
   {
    "duration": 11,
    "start_time": "2022-04-28T11:13:56.444Z"
   },
   {
    "duration": 3,
    "start_time": "2022-04-28T11:14:05.321Z"
   },
   {
    "duration": 116,
    "start_time": "2022-04-28T11:14:05.327Z"
   },
   {
    "duration": 39,
    "start_time": "2022-04-28T11:14:05.444Z"
   },
   {
    "duration": 11,
    "start_time": "2022-04-28T11:14:05.484Z"
   },
   {
    "duration": 9,
    "start_time": "2022-04-28T11:14:05.497Z"
   },
   {
    "duration": 14,
    "start_time": "2022-04-28T11:14:05.507Z"
   },
   {
    "duration": 14,
    "start_time": "2022-04-28T11:14:05.522Z"
   },
   {
    "duration": 278,
    "start_time": "2022-04-28T11:14:05.574Z"
   },
   {
    "duration": 205,
    "start_time": "2022-04-28T11:14:05.853Z"
   },
   {
    "duration": 196,
    "start_time": "2022-04-28T11:14:06.060Z"
   },
   {
    "duration": 288,
    "start_time": "2022-04-28T11:14:06.258Z"
   },
   {
    "duration": 195,
    "start_time": "2022-04-28T11:14:06.547Z"
   },
   {
    "duration": 330,
    "start_time": "2022-04-28T11:14:06.743Z"
   },
   {
    "duration": 275,
    "start_time": "2022-04-28T11:14:07.076Z"
   },
   {
    "duration": 4,
    "start_time": "2022-04-28T11:14:07.353Z"
   },
   {
    "duration": 150,
    "start_time": "2022-04-28T11:14:07.359Z"
   },
   {
    "duration": 5,
    "start_time": "2022-04-28T11:14:07.511Z"
   },
   {
    "duration": 351,
    "start_time": "2022-04-28T11:14:07.517Z"
   },
   {
    "duration": 10,
    "start_time": "2022-04-28T11:14:07.873Z"
   },
   {
    "duration": 43,
    "start_time": "2022-04-28T11:14:07.885Z"
   },
   {
    "duration": 13,
    "start_time": "2022-04-28T11:14:07.929Z"
   },
   {
    "duration": 3,
    "start_time": "2022-04-28T11:28:04.187Z"
   },
   {
    "duration": 108,
    "start_time": "2022-04-28T11:28:04.193Z"
   },
   {
    "duration": 16,
    "start_time": "2022-04-28T11:28:04.303Z"
   },
   {
    "duration": 11,
    "start_time": "2022-04-28T11:28:04.320Z"
   },
   {
    "duration": 11,
    "start_time": "2022-04-28T11:28:04.333Z"
   },
   {
    "duration": 11,
    "start_time": "2022-04-28T11:28:04.374Z"
   },
   {
    "duration": 14,
    "start_time": "2022-04-28T11:28:04.386Z"
   },
   {
    "duration": 284,
    "start_time": "2022-04-28T11:28:04.401Z"
   },
   {
    "duration": 196,
    "start_time": "2022-04-28T11:28:04.687Z"
   },
   {
    "duration": 200,
    "start_time": "2022-04-28T11:28:04.885Z"
   },
   {
    "duration": 392,
    "start_time": "2022-04-28T11:28:05.087Z"
   },
   {
    "duration": 181,
    "start_time": "2022-04-28T11:28:05.480Z"
   },
   {
    "duration": 313,
    "start_time": "2022-04-28T11:28:05.663Z"
   },
   {
    "duration": 258,
    "start_time": "2022-04-28T11:28:05.978Z"
   },
   {
    "duration": 4,
    "start_time": "2022-04-28T11:28:06.238Z"
   },
   {
    "duration": 146,
    "start_time": "2022-04-28T11:28:06.243Z"
   },
   {
    "duration": 3,
    "start_time": "2022-04-28T11:28:06.391Z"
   },
   {
    "duration": 340,
    "start_time": "2022-04-28T11:28:06.396Z"
   },
   {
    "duration": 10,
    "start_time": "2022-04-28T11:28:06.738Z"
   },
   {
    "duration": 53,
    "start_time": "2022-04-28T11:28:06.749Z"
   },
   {
    "duration": 12,
    "start_time": "2022-04-28T11:28:06.804Z"
   },
   {
    "duration": 10,
    "start_time": "2022-04-28T11:29:49.831Z"
   },
   {
    "duration": 10,
    "start_time": "2022-04-28T11:29:52.042Z"
   },
   {
    "duration": 3,
    "start_time": "2022-04-28T11:29:54.120Z"
   },
   {
    "duration": 105,
    "start_time": "2022-04-28T11:29:54.127Z"
   },
   {
    "duration": 15,
    "start_time": "2022-04-28T11:29:54.234Z"
   },
   {
    "duration": 32,
    "start_time": "2022-04-28T11:29:54.250Z"
   },
   {
    "duration": 13,
    "start_time": "2022-04-28T11:29:54.283Z"
   },
   {
    "duration": 17,
    "start_time": "2022-04-28T11:29:54.298Z"
   },
   {
    "duration": 284,
    "start_time": "2022-04-28T11:29:54.317Z"
   },
   {
    "duration": 198,
    "start_time": "2022-04-28T11:29:54.602Z"
   },
   {
    "duration": 195,
    "start_time": "2022-04-28T11:29:54.802Z"
   },
   {
    "duration": 282,
    "start_time": "2022-04-28T11:29:54.998Z"
   },
   {
    "duration": 187,
    "start_time": "2022-04-28T11:29:55.282Z"
   },
   {
    "duration": 310,
    "start_time": "2022-04-28T11:29:55.472Z"
   },
   {
    "duration": 359,
    "start_time": "2022-04-28T11:29:55.784Z"
   },
   {
    "duration": 4,
    "start_time": "2022-04-28T11:29:56.145Z"
   },
   {
    "duration": 153,
    "start_time": "2022-04-28T11:29:56.152Z"
   },
   {
    "duration": 4,
    "start_time": "2022-04-28T11:29:56.307Z"
   },
   {
    "duration": 357,
    "start_time": "2022-04-28T11:29:56.313Z"
   },
   {
    "duration": 10,
    "start_time": "2022-04-28T11:29:56.674Z"
   },
   {
    "duration": 38,
    "start_time": "2022-04-28T11:29:56.686Z"
   },
   {
    "duration": 14,
    "start_time": "2022-04-28T11:29:56.726Z"
   },
   {
    "duration": 12,
    "start_time": "2022-04-28T11:31:56.016Z"
   },
   {
    "duration": 344,
    "start_time": "2022-04-28T11:47:33.650Z"
   },
   {
    "duration": 7,
    "start_time": "2022-04-28T11:50:31.175Z"
   },
   {
    "duration": 4,
    "start_time": "2022-04-28T12:14:16.960Z"
   },
   {
    "duration": 116,
    "start_time": "2022-04-28T12:14:16.973Z"
   },
   {
    "duration": 17,
    "start_time": "2022-04-28T12:14:17.091Z"
   },
   {
    "duration": 10,
    "start_time": "2022-04-28T12:14:17.110Z"
   },
   {
    "duration": 10,
    "start_time": "2022-04-28T12:14:17.122Z"
   },
   {
    "duration": 41,
    "start_time": "2022-04-28T12:14:17.134Z"
   },
   {
    "duration": 280,
    "start_time": "2022-04-28T12:14:17.177Z"
   },
   {
    "duration": 196,
    "start_time": "2022-04-28T12:14:17.458Z"
   },
   {
    "duration": 197,
    "start_time": "2022-04-28T12:14:17.656Z"
   },
   {
    "duration": 322,
    "start_time": "2022-04-28T12:14:17.855Z"
   },
   {
    "duration": 206,
    "start_time": "2022-04-28T12:14:18.179Z"
   },
   {
    "duration": 323,
    "start_time": "2022-04-28T12:14:18.386Z"
   },
   {
    "duration": 254,
    "start_time": "2022-04-28T12:14:18.710Z"
   },
   {
    "duration": 9,
    "start_time": "2022-04-28T12:14:18.966Z"
   },
   {
    "duration": 148,
    "start_time": "2022-04-28T12:14:18.977Z"
   },
   {
    "duration": 5,
    "start_time": "2022-04-28T12:14:19.127Z"
   },
   {
    "duration": 370,
    "start_time": "2022-04-28T12:14:19.133Z"
   },
   {
    "duration": 12,
    "start_time": "2022-04-28T12:14:19.505Z"
   },
   {
    "duration": 60,
    "start_time": "2022-04-28T12:14:19.518Z"
   },
   {
    "duration": 15,
    "start_time": "2022-04-28T12:14:19.580Z"
   },
   {
    "duration": 4,
    "start_time": "2022-04-28T12:23:02.194Z"
   },
   {
    "duration": 128,
    "start_time": "2022-04-28T12:23:02.200Z"
   },
   {
    "duration": 17,
    "start_time": "2022-04-28T12:23:02.330Z"
   },
   {
    "duration": 33,
    "start_time": "2022-04-28T12:23:02.349Z"
   },
   {
    "duration": 11,
    "start_time": "2022-04-28T12:23:02.385Z"
   },
   {
    "duration": 17,
    "start_time": "2022-04-28T12:23:02.398Z"
   },
   {
    "duration": 295,
    "start_time": "2022-04-28T12:23:02.417Z"
   },
   {
    "duration": 199,
    "start_time": "2022-04-28T12:23:02.714Z"
   },
   {
    "duration": 284,
    "start_time": "2022-04-28T12:23:02.915Z"
   },
   {
    "duration": 259,
    "start_time": "2022-04-28T12:23:03.200Z"
   },
   {
    "duration": 184,
    "start_time": "2022-04-28T12:23:03.461Z"
   },
   {
    "duration": 318,
    "start_time": "2022-04-28T12:23:03.646Z"
   },
   {
    "duration": 265,
    "start_time": "2022-04-28T12:23:03.966Z"
   },
   {
    "duration": 4,
    "start_time": "2022-04-28T12:23:04.232Z"
   },
   {
    "duration": 141,
    "start_time": "2022-04-28T12:23:04.238Z"
   },
   {
    "duration": 4,
    "start_time": "2022-04-28T12:23:04.380Z"
   },
   {
    "duration": 366,
    "start_time": "2022-04-28T12:23:04.386Z"
   },
   {
    "duration": 19,
    "start_time": "2022-04-28T12:23:04.754Z"
   },
   {
    "duration": 35,
    "start_time": "2022-04-28T12:23:04.775Z"
   },
   {
    "duration": 14,
    "start_time": "2022-04-28T12:23:04.812Z"
   },
   {
    "duration": 4,
    "start_time": "2022-04-28T12:25:00.151Z"
   },
   {
    "duration": 129,
    "start_time": "2022-04-28T12:25:00.157Z"
   },
   {
    "duration": 15,
    "start_time": "2022-04-28T12:25:00.288Z"
   },
   {
    "duration": 47,
    "start_time": "2022-04-28T12:25:00.305Z"
   },
   {
    "duration": 23,
    "start_time": "2022-04-28T12:25:00.354Z"
   },
   {
    "duration": 20,
    "start_time": "2022-04-28T12:25:00.379Z"
   },
   {
    "duration": 282,
    "start_time": "2022-04-28T12:25:00.400Z"
   },
   {
    "duration": 197,
    "start_time": "2022-04-28T12:25:00.684Z"
   },
   {
    "duration": 212,
    "start_time": "2022-04-28T12:25:00.883Z"
   },
   {
    "duration": 264,
    "start_time": "2022-04-28T12:25:01.097Z"
   },
   {
    "duration": 199,
    "start_time": "2022-04-28T12:25:01.363Z"
   },
   {
    "duration": 426,
    "start_time": "2022-04-28T12:25:01.564Z"
   },
   {
    "duration": 260,
    "start_time": "2022-04-28T12:25:01.992Z"
   },
   {
    "duration": 5,
    "start_time": "2022-04-28T12:25:02.256Z"
   },
   {
    "duration": 146,
    "start_time": "2022-04-28T12:25:02.274Z"
   },
   {
    "duration": 4,
    "start_time": "2022-04-28T12:25:02.422Z"
   },
   {
    "duration": 367,
    "start_time": "2022-04-28T12:25:02.428Z"
   },
   {
    "duration": 10,
    "start_time": "2022-04-28T12:25:02.798Z"
   },
   {
    "duration": 56,
    "start_time": "2022-04-28T12:25:02.810Z"
   },
   {
    "duration": 27,
    "start_time": "2022-04-28T12:25:02.872Z"
   },
   {
    "duration": 13,
    "start_time": "2022-04-28T12:33:00.521Z"
   },
   {
    "duration": 12,
    "start_time": "2022-04-28T12:35:00.234Z"
   },
   {
    "duration": 10,
    "start_time": "2022-04-28T12:35:05.161Z"
   },
   {
    "duration": 11,
    "start_time": "2022-04-28T12:35:12.836Z"
   },
   {
    "duration": 11,
    "start_time": "2022-04-28T12:35:31.329Z"
   },
   {
    "duration": 10,
    "start_time": "2022-04-28T12:35:35.491Z"
   },
   {
    "duration": 10,
    "start_time": "2022-04-28T12:35:55.735Z"
   },
   {
    "duration": 11,
    "start_time": "2022-04-28T12:36:06.388Z"
   },
   {
    "duration": 30,
    "start_time": "2022-04-28T12:36:58.721Z"
   },
   {
    "duration": 11,
    "start_time": "2022-04-28T12:56:40.804Z"
   },
   {
    "duration": 12,
    "start_time": "2022-04-28T12:57:17.405Z"
   },
   {
    "duration": 12,
    "start_time": "2022-04-28T12:57:25.019Z"
   },
   {
    "duration": 15,
    "start_time": "2022-04-28T12:58:58.920Z"
   },
   {
    "duration": 63,
    "start_time": "2022-04-28T12:59:13.265Z"
   },
   {
    "duration": 18,
    "start_time": "2022-04-28T13:12:02.267Z"
   },
   {
    "duration": 15,
    "start_time": "2022-04-28T13:12:09.228Z"
   },
   {
    "duration": 15,
    "start_time": "2022-04-28T13:12:13.787Z"
   },
   {
    "duration": 23,
    "start_time": "2022-04-28T13:12:23.989Z"
   },
   {
    "duration": 38,
    "start_time": "2022-04-28T13:12:42.068Z"
   },
   {
    "duration": 29,
    "start_time": "2022-04-28T13:12:52.890Z"
   },
   {
    "duration": 12,
    "start_time": "2022-04-28T13:13:03.345Z"
   },
   {
    "duration": 361,
    "start_time": "2022-04-28T13:13:11.409Z"
   },
   {
    "duration": 14,
    "start_time": "2022-04-28T13:17:41.360Z"
   },
   {
    "duration": 14,
    "start_time": "2022-04-28T13:19:28.404Z"
   },
   {
    "duration": 15,
    "start_time": "2022-04-28T13:19:35.808Z"
   },
   {
    "duration": 13,
    "start_time": "2022-04-28T13:19:43.729Z"
   },
   {
    "duration": 348,
    "start_time": "2022-04-28T13:25:46.136Z"
   },
   {
    "duration": 353,
    "start_time": "2022-04-28T13:27:49.568Z"
   },
   {
    "duration": 31,
    "start_time": "2022-04-28T13:28:20.521Z"
   },
   {
    "duration": 3,
    "start_time": "2022-04-28T13:28:53.630Z"
   },
   {
    "duration": 114,
    "start_time": "2022-04-28T13:28:53.635Z"
   },
   {
    "duration": 18,
    "start_time": "2022-04-28T13:28:53.774Z"
   },
   {
    "duration": 15,
    "start_time": "2022-04-28T13:28:53.794Z"
   },
   {
    "duration": 10,
    "start_time": "2022-04-28T13:28:53.811Z"
   },
   {
    "duration": 16,
    "start_time": "2022-04-28T13:28:53.823Z"
   },
   {
    "duration": 278,
    "start_time": "2022-04-28T13:28:53.874Z"
   },
   {
    "duration": 201,
    "start_time": "2022-04-28T13:28:54.153Z"
   },
   {
    "duration": 196,
    "start_time": "2022-04-28T13:28:54.356Z"
   },
   {
    "duration": 301,
    "start_time": "2022-04-28T13:28:54.554Z"
   },
   {
    "duration": 192,
    "start_time": "2022-04-28T13:28:54.858Z"
   },
   {
    "duration": 323,
    "start_time": "2022-04-28T13:28:55.052Z"
   },
   {
    "duration": 269,
    "start_time": "2022-04-28T13:28:55.376Z"
   },
   {
    "duration": 5,
    "start_time": "2022-04-28T13:28:55.647Z"
   },
   {
    "duration": 152,
    "start_time": "2022-04-28T13:28:55.653Z"
   },
   {
    "duration": 4,
    "start_time": "2022-04-28T13:28:55.807Z"
   },
   {
    "duration": 474,
    "start_time": "2022-04-28T13:28:55.814Z"
   },
   {
    "duration": 13,
    "start_time": "2022-04-28T13:28:56.290Z"
   },
   {
    "duration": 14,
    "start_time": "2022-04-28T13:28:56.305Z"
   },
   {
    "duration": 60,
    "start_time": "2022-04-28T13:28:56.321Z"
   },
   {
    "duration": 17,
    "start_time": "2022-04-28T13:28:56.383Z"
   },
   {
    "duration": 5,
    "start_time": "2022-04-28T13:29:22.274Z"
   },
   {
    "duration": 158,
    "start_time": "2022-04-28T13:29:22.290Z"
   },
   {
    "duration": 42,
    "start_time": "2022-04-28T13:29:22.451Z"
   },
   {
    "duration": 14,
    "start_time": "2022-04-28T13:29:22.496Z"
   },
   {
    "duration": 11,
    "start_time": "2022-04-28T13:29:22.513Z"
   },
   {
    "duration": 14,
    "start_time": "2022-04-28T13:29:22.526Z"
   },
   {
    "duration": 318,
    "start_time": "2022-04-28T13:29:22.542Z"
   },
   {
    "duration": 211,
    "start_time": "2022-04-28T13:29:22.862Z"
   },
   {
    "duration": 207,
    "start_time": "2022-04-28T13:29:23.075Z"
   },
   {
    "duration": 299,
    "start_time": "2022-04-28T13:29:23.284Z"
   },
   {
    "duration": 242,
    "start_time": "2022-04-28T13:29:23.587Z"
   },
   {
    "duration": 355,
    "start_time": "2022-04-28T13:29:23.831Z"
   },
   {
    "duration": 300,
    "start_time": "2022-04-28T13:29:24.189Z"
   },
   {
    "duration": 6,
    "start_time": "2022-04-28T13:29:24.492Z"
   },
   {
    "duration": 187,
    "start_time": "2022-04-28T13:29:24.500Z"
   },
   {
    "duration": 5,
    "start_time": "2022-04-28T13:29:24.690Z"
   },
   {
    "duration": 396,
    "start_time": "2022-04-28T13:29:24.697Z"
   },
   {
    "duration": 11,
    "start_time": "2022-04-28T13:29:25.095Z"
   },
   {
    "duration": 16,
    "start_time": "2022-04-28T13:29:25.108Z"
   },
   {
    "duration": 59,
    "start_time": "2022-04-28T13:29:25.126Z"
   },
   {
    "duration": 15,
    "start_time": "2022-04-28T13:29:25.187Z"
   },
   {
    "duration": 127,
    "start_time": "2022-04-28T13:30:11.042Z"
   },
   {
    "duration": 16,
    "start_time": "2022-04-28T13:30:23.802Z"
   },
   {
    "duration": 28,
    "start_time": "2022-04-28T13:31:38.345Z"
   },
   {
    "duration": 22,
    "start_time": "2022-04-28T13:32:37.138Z"
   },
   {
    "duration": 335,
    "start_time": "2022-04-28T13:34:05.097Z"
   },
   {
    "duration": 348,
    "start_time": "2022-04-28T13:34:12.860Z"
   },
   {
    "duration": 4,
    "start_time": "2022-04-28T16:17:29.742Z"
   },
   {
    "duration": 131,
    "start_time": "2022-04-28T16:17:29.748Z"
   },
   {
    "duration": 15,
    "start_time": "2022-04-28T16:17:29.881Z"
   },
   {
    "duration": 9,
    "start_time": "2022-04-28T16:17:29.898Z"
   },
   {
    "duration": 17,
    "start_time": "2022-04-28T16:17:29.909Z"
   },
   {
    "duration": 17,
    "start_time": "2022-04-28T16:17:29.927Z"
   },
   {
    "duration": 341,
    "start_time": "2022-04-28T16:17:29.946Z"
   },
   {
    "duration": 208,
    "start_time": "2022-04-28T16:17:30.289Z"
   },
   {
    "duration": 207,
    "start_time": "2022-04-28T16:17:30.499Z"
   },
   {
    "duration": 395,
    "start_time": "2022-04-28T16:17:30.708Z"
   },
   {
    "duration": 194,
    "start_time": "2022-04-28T16:17:31.105Z"
   },
   {
    "duration": 291,
    "start_time": "2022-04-28T16:17:31.301Z"
   },
   {
    "duration": 266,
    "start_time": "2022-04-28T16:17:31.594Z"
   },
   {
    "duration": 11,
    "start_time": "2022-04-28T16:17:31.862Z"
   },
   {
    "duration": 151,
    "start_time": "2022-04-28T16:17:31.875Z"
   },
   {
    "duration": 4,
    "start_time": "2022-04-28T16:17:32.028Z"
   },
   {
    "duration": 379,
    "start_time": "2022-04-28T16:17:32.034Z"
   },
   {
    "duration": 11,
    "start_time": "2022-04-28T16:17:32.416Z"
   },
   {
    "duration": 12,
    "start_time": "2022-04-28T16:17:32.429Z"
   },
   {
    "duration": 52,
    "start_time": "2022-04-28T16:17:32.443Z"
   },
   {
    "duration": 14,
    "start_time": "2022-04-28T16:17:32.497Z"
   },
   {
    "duration": 3,
    "start_time": "2022-04-28T16:20:53.756Z"
   },
   {
    "duration": 114,
    "start_time": "2022-04-28T16:20:53.762Z"
   },
   {
    "duration": 19,
    "start_time": "2022-04-28T16:20:53.878Z"
   },
   {
    "duration": 11,
    "start_time": "2022-04-28T16:20:53.899Z"
   },
   {
    "duration": 29,
    "start_time": "2022-04-28T16:20:53.912Z"
   },
   {
    "duration": 39,
    "start_time": "2022-04-28T16:20:53.943Z"
   },
   {
    "duration": 283,
    "start_time": "2022-04-28T16:20:53.984Z"
   },
   {
    "duration": 197,
    "start_time": "2022-04-28T16:20:54.268Z"
   },
   {
    "duration": 199,
    "start_time": "2022-04-28T16:20:54.467Z"
   },
   {
    "duration": 290,
    "start_time": "2022-04-28T16:20:54.668Z"
   },
   {
    "duration": 197,
    "start_time": "2022-04-28T16:20:54.960Z"
   },
   {
    "duration": 343,
    "start_time": "2022-04-28T16:20:55.159Z"
   },
   {
    "duration": 353,
    "start_time": "2022-04-28T16:20:55.503Z"
   },
   {
    "duration": 5,
    "start_time": "2022-04-28T16:20:55.857Z"
   },
   {
    "duration": 158,
    "start_time": "2022-04-28T16:20:55.863Z"
   },
   {
    "duration": 5,
    "start_time": "2022-04-28T16:20:56.024Z"
   },
   {
    "duration": 361,
    "start_time": "2022-04-28T16:20:56.031Z"
   },
   {
    "duration": 12,
    "start_time": "2022-04-28T16:20:56.394Z"
   },
   {
    "duration": 12,
    "start_time": "2022-04-28T16:20:56.407Z"
   },
   {
    "duration": 55,
    "start_time": "2022-04-28T16:20:56.421Z"
   },
   {
    "duration": 14,
    "start_time": "2022-04-28T16:20:56.478Z"
   },
   {
    "duration": 29,
    "start_time": "2022-04-28T16:24:41.905Z"
   },
   {
    "duration": 124,
    "start_time": "2022-04-28T17:25:01.550Z"
   },
   {
    "duration": 113,
    "start_time": "2022-04-28T17:25:28.789Z"
   },
   {
    "duration": 126,
    "start_time": "2022-04-28T17:25:52.072Z"
   },
   {
    "duration": 3,
    "start_time": "2022-04-28T17:26:55.841Z"
   },
   {
    "duration": 125,
    "start_time": "2022-04-28T17:26:55.848Z"
   },
   {
    "duration": 16,
    "start_time": "2022-04-28T17:26:55.976Z"
   },
   {
    "duration": 10,
    "start_time": "2022-04-28T17:26:55.994Z"
   },
   {
    "duration": 11,
    "start_time": "2022-04-28T17:26:56.006Z"
   },
   {
    "duration": 55,
    "start_time": "2022-04-28T17:26:56.020Z"
   },
   {
    "duration": 281,
    "start_time": "2022-04-28T17:26:56.077Z"
   },
   {
    "duration": 204,
    "start_time": "2022-04-28T17:26:56.360Z"
   },
   {
    "duration": 201,
    "start_time": "2022-04-28T17:26:56.566Z"
   },
   {
    "duration": 284,
    "start_time": "2022-04-28T17:26:56.773Z"
   },
   {
    "duration": 192,
    "start_time": "2022-04-28T17:26:57.059Z"
   },
   {
    "duration": 321,
    "start_time": "2022-04-28T17:26:57.253Z"
   },
   {
    "duration": 274,
    "start_time": "2022-04-28T17:26:57.575Z"
   },
   {
    "duration": 5,
    "start_time": "2022-04-28T17:26:57.851Z"
   },
   {
    "duration": 169,
    "start_time": "2022-04-28T17:26:57.858Z"
   },
   {
    "duration": 5,
    "start_time": "2022-04-28T17:26:58.029Z"
   },
   {
    "duration": 360,
    "start_time": "2022-04-28T17:26:58.036Z"
   },
   {
    "duration": 10,
    "start_time": "2022-04-28T17:26:58.398Z"
   },
   {
    "duration": 12,
    "start_time": "2022-04-28T17:26:58.410Z"
   },
   {
    "duration": 52,
    "start_time": "2022-04-28T17:26:58.424Z"
   },
   {
    "duration": 14,
    "start_time": "2022-04-28T17:26:58.478Z"
   },
   {
    "duration": 3,
    "start_time": "2022-04-28T18:18:26.540Z"
   },
   {
    "duration": 141,
    "start_time": "2022-04-28T18:28:41.234Z"
   },
   {
    "duration": 13,
    "start_time": "2022-04-28T18:28:49.052Z"
   },
   {
    "duration": 15,
    "start_time": "2022-04-28T18:30:44.854Z"
   },
   {
    "duration": 14,
    "start_time": "2022-04-28T18:30:57.990Z"
   },
   {
    "duration": 13,
    "start_time": "2022-04-28T18:31:10.976Z"
   },
   {
    "duration": 14,
    "start_time": "2022-04-28T19:05:15.321Z"
   },
   {
    "duration": 3,
    "start_time": "2022-04-28T19:08:47.391Z"
   },
   {
    "duration": 126,
    "start_time": "2022-04-28T19:08:47.396Z"
   },
   {
    "duration": 16,
    "start_time": "2022-04-28T19:08:47.524Z"
   },
   {
    "duration": 10,
    "start_time": "2022-04-28T19:08:47.542Z"
   },
   {
    "duration": 13,
    "start_time": "2022-04-28T19:08:47.578Z"
   },
   {
    "duration": 14,
    "start_time": "2022-04-28T19:08:47.593Z"
   },
   {
    "duration": 296,
    "start_time": "2022-04-28T19:08:47.609Z"
   },
   {
    "duration": 210,
    "start_time": "2022-04-28T19:08:47.906Z"
   },
   {
    "duration": 208,
    "start_time": "2022-04-28T19:08:48.117Z"
   },
   {
    "duration": 281,
    "start_time": "2022-04-28T19:08:48.327Z"
   },
   {
    "duration": 196,
    "start_time": "2022-04-28T19:08:48.610Z"
   },
   {
    "duration": 308,
    "start_time": "2022-04-28T19:08:48.808Z"
   },
   {
    "duration": 292,
    "start_time": "2022-04-28T19:08:49.118Z"
   },
   {
    "duration": 4,
    "start_time": "2022-04-28T19:08:49.413Z"
   },
   {
    "duration": 164,
    "start_time": "2022-04-28T19:08:49.419Z"
   },
   {
    "duration": 5,
    "start_time": "2022-04-28T19:08:49.586Z"
   },
   {
    "duration": 402,
    "start_time": "2022-04-28T19:08:49.593Z"
   },
   {
    "duration": 12,
    "start_time": "2022-04-28T19:08:49.998Z"
   },
   {
    "duration": 14,
    "start_time": "2022-04-28T19:08:50.012Z"
   },
   {
    "duration": 65,
    "start_time": "2022-04-28T19:08:50.027Z"
   },
   {
    "duration": 15,
    "start_time": "2022-04-28T19:08:50.094Z"
   },
   {
    "duration": 1194,
    "start_time": "2022-04-29T12:09:08.482Z"
   },
   {
    "duration": 116,
    "start_time": "2022-04-29T12:09:09.678Z"
   },
   {
    "duration": 16,
    "start_time": "2022-04-29T12:09:09.808Z"
   },
   {
    "duration": 11,
    "start_time": "2022-04-29T12:09:09.826Z"
   },
   {
    "duration": 12,
    "start_time": "2022-04-29T12:09:09.838Z"
   },
   {
    "duration": 78,
    "start_time": "2022-04-29T12:09:09.851Z"
   },
   {
    "duration": 292,
    "start_time": "2022-04-29T12:09:09.931Z"
   },
   {
    "duration": 289,
    "start_time": "2022-04-29T12:09:10.225Z"
   },
   {
    "duration": 214,
    "start_time": "2022-04-29T12:09:10.515Z"
   },
   {
    "duration": 296,
    "start_time": "2022-04-29T12:09:10.732Z"
   },
   {
    "duration": 199,
    "start_time": "2022-04-29T12:09:11.029Z"
   },
   {
    "duration": 308,
    "start_time": "2022-04-29T12:09:11.230Z"
   },
   {
    "duration": 299,
    "start_time": "2022-04-29T12:09:11.540Z"
   },
   {
    "duration": 4,
    "start_time": "2022-04-29T12:09:11.841Z"
   },
   {
    "duration": 156,
    "start_time": "2022-04-29T12:09:11.846Z"
   },
   {
    "duration": 5,
    "start_time": "2022-04-29T12:09:12.006Z"
   },
   {
    "duration": 402,
    "start_time": "2022-04-29T12:09:12.012Z"
   },
   {
    "duration": 10,
    "start_time": "2022-04-29T12:09:12.416Z"
   },
   {
    "duration": 10,
    "start_time": "2022-04-29T12:09:12.428Z"
   },
   {
    "duration": 35,
    "start_time": "2022-04-29T12:09:12.440Z"
   },
   {
    "duration": 38,
    "start_time": "2022-04-29T12:09:12.477Z"
   },
   {
    "duration": 4,
    "start_time": "2022-04-29T12:11:03.154Z"
   },
   {
    "duration": 111,
    "start_time": "2022-04-29T12:11:03.493Z"
   },
   {
    "duration": 17,
    "start_time": "2022-04-29T12:11:04.936Z"
   },
   {
    "duration": 11,
    "start_time": "2022-04-29T12:11:05.808Z"
   },
   {
    "duration": 8,
    "start_time": "2022-04-29T12:11:06.839Z"
   },
   {
    "duration": 10,
    "start_time": "2022-04-29T12:11:19.189Z"
   },
   {
    "duration": 10,
    "start_time": "2022-04-29T12:16:49.351Z"
   },
   {
    "duration": 30,
    "start_time": "2022-04-29T12:16:56.115Z"
   },
   {
    "duration": 15,
    "start_time": "2022-04-29T12:17:03.821Z"
   },
   {
    "duration": 1353,
    "start_time": "2022-04-29T12:44:03.259Z"
   },
   {
    "duration": 170,
    "start_time": "2022-04-29T12:44:04.615Z"
   },
   {
    "duration": 19,
    "start_time": "2022-04-29T12:44:04.786Z"
   },
   {
    "duration": 35,
    "start_time": "2022-04-29T12:44:04.806Z"
   },
   {
    "duration": 12,
    "start_time": "2022-04-29T12:44:04.844Z"
   },
   {
    "duration": 57,
    "start_time": "2022-04-29T12:44:04.858Z"
   },
   {
    "duration": 311,
    "start_time": "2022-04-29T12:44:04.933Z"
   },
   {
    "duration": 307,
    "start_time": "2022-04-29T12:44:05.245Z"
   },
   {
    "duration": 224,
    "start_time": "2022-04-29T12:44:05.554Z"
   },
   {
    "duration": 359,
    "start_time": "2022-04-29T12:44:05.780Z"
   },
   {
    "duration": 210,
    "start_time": "2022-04-29T12:44:06.141Z"
   },
   {
    "duration": 319,
    "start_time": "2022-04-29T12:44:06.353Z"
   },
   {
    "duration": 286,
    "start_time": "2022-04-29T12:44:06.674Z"
   },
   {
    "duration": 5,
    "start_time": "2022-04-29T12:44:06.964Z"
   },
   {
    "duration": 170,
    "start_time": "2022-04-29T12:44:06.971Z"
   },
   {
    "duration": 5,
    "start_time": "2022-04-29T12:44:07.143Z"
   },
   {
    "duration": 411,
    "start_time": "2022-04-29T12:44:07.150Z"
   },
   {
    "duration": 12,
    "start_time": "2022-04-29T12:44:07.564Z"
   },
   {
    "duration": 13,
    "start_time": "2022-04-29T12:44:07.578Z"
   },
   {
    "duration": 65,
    "start_time": "2022-04-29T12:44:07.592Z"
   },
   {
    "duration": 16,
    "start_time": "2022-04-29T12:44:07.658Z"
   },
   {
    "duration": 1528,
    "start_time": "2022-05-04T10:44:30.940Z"
   },
   {
    "duration": 162,
    "start_time": "2022-05-04T10:44:32.471Z"
   },
   {
    "duration": 17,
    "start_time": "2022-05-04T10:44:32.635Z"
   },
   {
    "duration": 11,
    "start_time": "2022-05-04T10:44:32.654Z"
   },
   {
    "duration": 14,
    "start_time": "2022-05-04T10:44:32.666Z"
   },
   {
    "duration": 106,
    "start_time": "2022-05-04T10:44:32.682Z"
   },
   {
    "duration": 457,
    "start_time": "2022-05-04T10:44:32.790Z"
   },
   {
    "duration": 265,
    "start_time": "2022-05-04T10:44:33.249Z"
   },
   {
    "duration": 190,
    "start_time": "2022-05-04T10:44:33.516Z"
   },
   {
    "duration": 279,
    "start_time": "2022-05-04T10:44:33.710Z"
   },
   {
    "duration": 182,
    "start_time": "2022-05-04T10:44:33.991Z"
   },
   {
    "duration": 291,
    "start_time": "2022-05-04T10:44:34.175Z"
   },
   {
    "duration": 258,
    "start_time": "2022-05-04T10:44:34.468Z"
   },
   {
    "duration": 5,
    "start_time": "2022-05-04T10:44:34.727Z"
   },
   {
    "duration": 142,
    "start_time": "2022-05-04T10:44:34.734Z"
   },
   {
    "duration": 4,
    "start_time": "2022-05-04T10:44:34.878Z"
   },
   {
    "duration": 366,
    "start_time": "2022-05-04T10:44:34.885Z"
   },
   {
    "duration": 10,
    "start_time": "2022-05-04T10:44:35.253Z"
   },
   {
    "duration": 10,
    "start_time": "2022-05-04T10:44:35.264Z"
   },
   {
    "duration": 53,
    "start_time": "2022-05-04T10:44:35.276Z"
   },
   {
    "duration": 15,
    "start_time": "2022-05-04T10:44:35.330Z"
   },
   {
    "duration": 1437,
    "start_time": "2022-05-04T19:51:55.295Z"
   },
   {
    "duration": 196,
    "start_time": "2022-05-04T19:51:56.735Z"
   },
   {
    "duration": 25,
    "start_time": "2022-05-04T19:51:56.933Z"
   },
   {
    "duration": 45,
    "start_time": "2022-05-04T19:51:56.960Z"
   },
   {
    "duration": 15,
    "start_time": "2022-05-04T19:51:57.008Z"
   },
   {
    "duration": 91,
    "start_time": "2022-05-04T19:51:57.025Z"
   },
   {
    "duration": 529,
    "start_time": "2022-05-04T19:51:57.119Z"
   },
   {
    "duration": 434,
    "start_time": "2022-05-04T19:51:57.650Z"
   },
   {
    "duration": 310,
    "start_time": "2022-05-04T19:51:58.087Z"
   },
   {
    "duration": 399,
    "start_time": "2022-05-04T19:51:58.399Z"
   },
   {
    "duration": 294,
    "start_time": "2022-05-04T19:51:58.801Z"
   },
   {
    "duration": 398,
    "start_time": "2022-05-04T19:51:59.097Z"
   },
   {
    "duration": 510,
    "start_time": "2022-05-04T19:51:59.498Z"
   },
   {
    "duration": 7,
    "start_time": "2022-05-04T19:52:00.012Z"
   },
   {
    "duration": 250,
    "start_time": "2022-05-04T19:52:00.021Z"
   },
   {
    "duration": 6,
    "start_time": "2022-05-04T19:52:00.274Z"
   },
   {
    "duration": 655,
    "start_time": "2022-05-04T19:52:00.294Z"
   },
   {
    "duration": 15,
    "start_time": "2022-05-04T19:52:00.952Z"
   },
   {
    "duration": 35,
    "start_time": "2022-05-04T19:52:00.969Z"
   },
   {
    "duration": 47,
    "start_time": "2022-05-04T19:52:01.006Z"
   },
   {
    "duration": 42,
    "start_time": "2022-05-04T19:52:01.055Z"
   }
  ],
  "kernelspec": {
   "display_name": "Python 3",
   "language": "python",
   "name": "python3"
  },
  "language_info": {
   "codemirror_mode": {
    "name": "ipython",
    "version": 3
   },
   "file_extension": ".py",
   "mimetype": "text/x-python",
   "name": "python",
   "nbconvert_exporter": "python",
   "pygments_lexer": "ipython3",
   "version": "3.7.12"
  },
  "toc": {
   "base_numbering": 1,
   "nav_menu": {},
   "number_sections": true,
   "sideBar": true,
   "skip_h1_title": true,
   "title_cell": "Table of Contents",
   "title_sidebar": "Contents",
   "toc_cell": false,
   "toc_position": {
    "height": "calc(100% - 180px)",
    "left": "10px",
    "top": "150px",
    "width": "165px"
   },
   "toc_section_display": true,
   "toc_window_display": true
  }
 },
 "nbformat": 4,
 "nbformat_minor": 2
}
